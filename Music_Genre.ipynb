{
  "nbformat": 4,
  "nbformat_minor": 0,
  "metadata": {
    "colab": {
      "name": "B20EE044_B20EE015_Course_Project.ipynb",
      "provenance": [],
      "collapsed_sections": [
        "lEAE9pncWPSe"
      ]
    },
    "kernelspec": {
      "name": "python3",
      "display_name": "Python 3"
    },
    "language_info": {
      "name": "python"
    }
  },
  "cells": [
    {
      "cell_type": "code",
      "execution_count": null,
      "metadata": {
        "colab": {
          "base_uri": "https://localhost:8080/"
        },
        "id": "dizq-v01RRvD",
        "outputId": "baa3516e-b041-4a46-b762-326d527add45"
      },
      "outputs": [
        {
          "output_type": "stream",
          "name": "stdout",
          "text": [
            "Requirement already satisfied: xgboost in /usr/local/lib/python3.7/dist-packages (0.90)\n",
            "Requirement already satisfied: numpy in /usr/local/lib/python3.7/dist-packages (from xgboost) (1.21.6)\n",
            "Requirement already satisfied: scipy in /usr/local/lib/python3.7/dist-packages (from xgboost) (1.4.1)\n"
          ]
        }
      ],
      "source": [
        "!pip install xgboost"
      ]
    },
    {
      "cell_type": "code",
      "source": [
        "import pandas as pd\n",
        "import numpy as np\n",
        "import xgboost\n",
        "from sklearn.model_selection import train_test_split as tts\n",
        "from sklearn.preprocessing import LabelEncoder\n",
        "from sklearn.metrics import accuracy_score as ac\n",
        "from sklearn.tree import DecisionTreeClassifier as dtc\n",
        "from sklearn.model_selection import GridSearchCV\n",
        "from sklearn.preprocessing import StandardScaler\n",
        "from sklearn.preprocessing import MinMaxScaler\n",
        "from sklearn.decomposition import PCA\n",
        "from sklearn.neighbors import KNeighborsClassifier\n",
        "from sklearn.model_selection import cross_val_score\n",
        "from sklearn.model_selection import KFold\n",
        "import statistics\n",
        "import matplotlib.pyplot as plt\n",
        "import seaborn as sns\n",
        "from sklearn.naive_bayes import GaussianNB\n",
        "from sklearn.metrics import confusion_matrix\n",
        "from sklearn.ensemble import RandomForestClassifier as rfc\n",
        "import lightgbm\n",
        "from sklearn.metrics import classification_report\n",
        "from sklearn.metrics import f1_score\n",
        "from sklearn.preprocessing import label_binarize\n",
        "from sklearn.metrics import roc_curve, auc\n",
        "from sklearn.neural_network import MLPClassifier\n",
        "from tabulate import tabulate"
      ],
      "metadata": {
        "id": "NL8tidDYSOpF"
      },
      "execution_count": 206,
      "outputs": []
    },
    {
      "cell_type": "code",
      "execution_count": null,
      "metadata": {
        "id": "gSdnWWZnlmfn"
      },
      "outputs": [],
      "source": [
        "df1 = pd.read_csv('/content/features_3_sec.csv')"
      ]
    },
    {
      "cell_type": "code",
      "source": [
        "df1.shape"
      ],
      "metadata": {
        "colab": {
          "base_uri": "https://localhost:8080/"
        },
        "id": "DQKeUM-a0w_6",
        "outputId": "0205da59-4803-4c4a-95ad-e717bc85a75b"
      },
      "execution_count": null,
      "outputs": [
        {
          "output_type": "execute_result",
          "data": {
            "text/plain": [
              "(9990, 60)"
            ]
          },
          "metadata": {},
          "execution_count": 122
        }
      ]
    },
    {
      "cell_type": "code",
      "execution_count": null,
      "metadata": {
        "id": "QteODrIjlnP3",
        "colab": {
          "base_uri": "https://localhost:8080/",
          "height": 299
        },
        "outputId": "91d9c176-90b2-4511-9551-4f677c3e1108"
      },
      "outputs": [
        {
          "output_type": "execute_result",
          "data": {
            "text/plain": [
              "            filename  length  chroma_stft_mean  chroma_stft_var  rms_mean  \\\n",
              "0  blues.00000.0.wav   66149          0.335406         0.091048  0.130405   \n",
              "1  blues.00000.1.wav   66149          0.343065         0.086147  0.112699   \n",
              "2  blues.00000.2.wav   66149          0.346815         0.092243  0.132003   \n",
              "3  blues.00000.3.wav   66149          0.363639         0.086856  0.132565   \n",
              "4  blues.00000.4.wav   66149          0.335579         0.088129  0.143289   \n",
              "\n",
              "    rms_var  spectral_centroid_mean  spectral_centroid_var  \\\n",
              "0  0.003521             1773.065032          167541.630869   \n",
              "1  0.001450             1816.693777           90525.690866   \n",
              "2  0.004620             1788.539719          111407.437613   \n",
              "3  0.002448             1655.289045          111952.284517   \n",
              "4  0.001701             1630.656199           79667.267654   \n",
              "\n",
              "   spectral_bandwidth_mean  spectral_bandwidth_var  ...  mfcc16_var  \\\n",
              "0              1972.744388           117335.771563  ...   39.687145   \n",
              "1              2010.051501            65671.875673  ...   64.748276   \n",
              "2              2084.565132            75124.921716  ...   67.336563   \n",
              "3              1960.039988            82913.639269  ...   47.739452   \n",
              "4              1948.503884            60204.020268  ...   30.336359   \n",
              "\n",
              "   mfcc17_mean  mfcc17_var  mfcc18_mean  mfcc18_var  mfcc19_mean  mfcc19_var  \\\n",
              "0    -3.241280   36.488243     0.722209   38.099152    -5.050335   33.618073   \n",
              "1    -6.055294   40.677654     0.159015   51.264091    -2.837699   97.030830   \n",
              "2    -1.768610   28.348579     2.378768   45.717648    -1.938424   53.050835   \n",
              "3    -3.841155   28.337118     1.218588   34.770935    -3.580352   50.836224   \n",
              "4     0.664582   45.880913     1.689446   51.363583    -3.392489   26.738789   \n",
              "\n",
              "   mfcc20_mean  mfcc20_var  label  \n",
              "0    -0.243027   43.771767  blues  \n",
              "1     5.784063   59.943081  blues  \n",
              "2     2.517375   33.105122  blues  \n",
              "3     3.630866   32.023678  blues  \n",
              "4     0.536961   29.146694  blues  \n",
              "\n",
              "[5 rows x 60 columns]"
            ],
            "text/html": [
              "\n",
              "  <div id=\"df-1af17648-1172-4412-81ac-5ae9237a0edd\">\n",
              "    <div class=\"colab-df-container\">\n",
              "      <div>\n",
              "<style scoped>\n",
              "    .dataframe tbody tr th:only-of-type {\n",
              "        vertical-align: middle;\n",
              "    }\n",
              "\n",
              "    .dataframe tbody tr th {\n",
              "        vertical-align: top;\n",
              "    }\n",
              "\n",
              "    .dataframe thead th {\n",
              "        text-align: right;\n",
              "    }\n",
              "</style>\n",
              "<table border=\"1\" class=\"dataframe\">\n",
              "  <thead>\n",
              "    <tr style=\"text-align: right;\">\n",
              "      <th></th>\n",
              "      <th>filename</th>\n",
              "      <th>length</th>\n",
              "      <th>chroma_stft_mean</th>\n",
              "      <th>chroma_stft_var</th>\n",
              "      <th>rms_mean</th>\n",
              "      <th>rms_var</th>\n",
              "      <th>spectral_centroid_mean</th>\n",
              "      <th>spectral_centroid_var</th>\n",
              "      <th>spectral_bandwidth_mean</th>\n",
              "      <th>spectral_bandwidth_var</th>\n",
              "      <th>...</th>\n",
              "      <th>mfcc16_var</th>\n",
              "      <th>mfcc17_mean</th>\n",
              "      <th>mfcc17_var</th>\n",
              "      <th>mfcc18_mean</th>\n",
              "      <th>mfcc18_var</th>\n",
              "      <th>mfcc19_mean</th>\n",
              "      <th>mfcc19_var</th>\n",
              "      <th>mfcc20_mean</th>\n",
              "      <th>mfcc20_var</th>\n",
              "      <th>label</th>\n",
              "    </tr>\n",
              "  </thead>\n",
              "  <tbody>\n",
              "    <tr>\n",
              "      <th>0</th>\n",
              "      <td>blues.00000.0.wav</td>\n",
              "      <td>66149</td>\n",
              "      <td>0.335406</td>\n",
              "      <td>0.091048</td>\n",
              "      <td>0.130405</td>\n",
              "      <td>0.003521</td>\n",
              "      <td>1773.065032</td>\n",
              "      <td>167541.630869</td>\n",
              "      <td>1972.744388</td>\n",
              "      <td>117335.771563</td>\n",
              "      <td>...</td>\n",
              "      <td>39.687145</td>\n",
              "      <td>-3.241280</td>\n",
              "      <td>36.488243</td>\n",
              "      <td>0.722209</td>\n",
              "      <td>38.099152</td>\n",
              "      <td>-5.050335</td>\n",
              "      <td>33.618073</td>\n",
              "      <td>-0.243027</td>\n",
              "      <td>43.771767</td>\n",
              "      <td>blues</td>\n",
              "    </tr>\n",
              "    <tr>\n",
              "      <th>1</th>\n",
              "      <td>blues.00000.1.wav</td>\n",
              "      <td>66149</td>\n",
              "      <td>0.343065</td>\n",
              "      <td>0.086147</td>\n",
              "      <td>0.112699</td>\n",
              "      <td>0.001450</td>\n",
              "      <td>1816.693777</td>\n",
              "      <td>90525.690866</td>\n",
              "      <td>2010.051501</td>\n",
              "      <td>65671.875673</td>\n",
              "      <td>...</td>\n",
              "      <td>64.748276</td>\n",
              "      <td>-6.055294</td>\n",
              "      <td>40.677654</td>\n",
              "      <td>0.159015</td>\n",
              "      <td>51.264091</td>\n",
              "      <td>-2.837699</td>\n",
              "      <td>97.030830</td>\n",
              "      <td>5.784063</td>\n",
              "      <td>59.943081</td>\n",
              "      <td>blues</td>\n",
              "    </tr>\n",
              "    <tr>\n",
              "      <th>2</th>\n",
              "      <td>blues.00000.2.wav</td>\n",
              "      <td>66149</td>\n",
              "      <td>0.346815</td>\n",
              "      <td>0.092243</td>\n",
              "      <td>0.132003</td>\n",
              "      <td>0.004620</td>\n",
              "      <td>1788.539719</td>\n",
              "      <td>111407.437613</td>\n",
              "      <td>2084.565132</td>\n",
              "      <td>75124.921716</td>\n",
              "      <td>...</td>\n",
              "      <td>67.336563</td>\n",
              "      <td>-1.768610</td>\n",
              "      <td>28.348579</td>\n",
              "      <td>2.378768</td>\n",
              "      <td>45.717648</td>\n",
              "      <td>-1.938424</td>\n",
              "      <td>53.050835</td>\n",
              "      <td>2.517375</td>\n",
              "      <td>33.105122</td>\n",
              "      <td>blues</td>\n",
              "    </tr>\n",
              "    <tr>\n",
              "      <th>3</th>\n",
              "      <td>blues.00000.3.wav</td>\n",
              "      <td>66149</td>\n",
              "      <td>0.363639</td>\n",
              "      <td>0.086856</td>\n",
              "      <td>0.132565</td>\n",
              "      <td>0.002448</td>\n",
              "      <td>1655.289045</td>\n",
              "      <td>111952.284517</td>\n",
              "      <td>1960.039988</td>\n",
              "      <td>82913.639269</td>\n",
              "      <td>...</td>\n",
              "      <td>47.739452</td>\n",
              "      <td>-3.841155</td>\n",
              "      <td>28.337118</td>\n",
              "      <td>1.218588</td>\n",
              "      <td>34.770935</td>\n",
              "      <td>-3.580352</td>\n",
              "      <td>50.836224</td>\n",
              "      <td>3.630866</td>\n",
              "      <td>32.023678</td>\n",
              "      <td>blues</td>\n",
              "    </tr>\n",
              "    <tr>\n",
              "      <th>4</th>\n",
              "      <td>blues.00000.4.wav</td>\n",
              "      <td>66149</td>\n",
              "      <td>0.335579</td>\n",
              "      <td>0.088129</td>\n",
              "      <td>0.143289</td>\n",
              "      <td>0.001701</td>\n",
              "      <td>1630.656199</td>\n",
              "      <td>79667.267654</td>\n",
              "      <td>1948.503884</td>\n",
              "      <td>60204.020268</td>\n",
              "      <td>...</td>\n",
              "      <td>30.336359</td>\n",
              "      <td>0.664582</td>\n",
              "      <td>45.880913</td>\n",
              "      <td>1.689446</td>\n",
              "      <td>51.363583</td>\n",
              "      <td>-3.392489</td>\n",
              "      <td>26.738789</td>\n",
              "      <td>0.536961</td>\n",
              "      <td>29.146694</td>\n",
              "      <td>blues</td>\n",
              "    </tr>\n",
              "  </tbody>\n",
              "</table>\n",
              "<p>5 rows × 60 columns</p>\n",
              "</div>\n",
              "      <button class=\"colab-df-convert\" onclick=\"convertToInteractive('df-1af17648-1172-4412-81ac-5ae9237a0edd')\"\n",
              "              title=\"Convert this dataframe to an interactive table.\"\n",
              "              style=\"display:none;\">\n",
              "        \n",
              "  <svg xmlns=\"http://www.w3.org/2000/svg\" height=\"24px\"viewBox=\"0 0 24 24\"\n",
              "       width=\"24px\">\n",
              "    <path d=\"M0 0h24v24H0V0z\" fill=\"none\"/>\n",
              "    <path d=\"M18.56 5.44l.94 2.06.94-2.06 2.06-.94-2.06-.94-.94-2.06-.94 2.06-2.06.94zm-11 1L8.5 8.5l.94-2.06 2.06-.94-2.06-.94L8.5 2.5l-.94 2.06-2.06.94zm10 10l.94 2.06.94-2.06 2.06-.94-2.06-.94-.94-2.06-.94 2.06-2.06.94z\"/><path d=\"M17.41 7.96l-1.37-1.37c-.4-.4-.92-.59-1.43-.59-.52 0-1.04.2-1.43.59L10.3 9.45l-7.72 7.72c-.78.78-.78 2.05 0 2.83L4 21.41c.39.39.9.59 1.41.59.51 0 1.02-.2 1.41-.59l7.78-7.78 2.81-2.81c.8-.78.8-2.07 0-2.86zM5.41 20L4 18.59l7.72-7.72 1.47 1.35L5.41 20z\"/>\n",
              "  </svg>\n",
              "      </button>\n",
              "      \n",
              "  <style>\n",
              "    .colab-df-container {\n",
              "      display:flex;\n",
              "      flex-wrap:wrap;\n",
              "      gap: 12px;\n",
              "    }\n",
              "\n",
              "    .colab-df-convert {\n",
              "      background-color: #E8F0FE;\n",
              "      border: none;\n",
              "      border-radius: 50%;\n",
              "      cursor: pointer;\n",
              "      display: none;\n",
              "      fill: #1967D2;\n",
              "      height: 32px;\n",
              "      padding: 0 0 0 0;\n",
              "      width: 32px;\n",
              "    }\n",
              "\n",
              "    .colab-df-convert:hover {\n",
              "      background-color: #E2EBFA;\n",
              "      box-shadow: 0px 1px 2px rgba(60, 64, 67, 0.3), 0px 1px 3px 1px rgba(60, 64, 67, 0.15);\n",
              "      fill: #174EA6;\n",
              "    }\n",
              "\n",
              "    [theme=dark] .colab-df-convert {\n",
              "      background-color: #3B4455;\n",
              "      fill: #D2E3FC;\n",
              "    }\n",
              "\n",
              "    [theme=dark] .colab-df-convert:hover {\n",
              "      background-color: #434B5C;\n",
              "      box-shadow: 0px 1px 3px 1px rgba(0, 0, 0, 0.15);\n",
              "      filter: drop-shadow(0px 1px 2px rgba(0, 0, 0, 0.3));\n",
              "      fill: #FFFFFF;\n",
              "    }\n",
              "  </style>\n",
              "\n",
              "      <script>\n",
              "        const buttonEl =\n",
              "          document.querySelector('#df-1af17648-1172-4412-81ac-5ae9237a0edd button.colab-df-convert');\n",
              "        buttonEl.style.display =\n",
              "          google.colab.kernel.accessAllowed ? 'block' : 'none';\n",
              "\n",
              "        async function convertToInteractive(key) {\n",
              "          const element = document.querySelector('#df-1af17648-1172-4412-81ac-5ae9237a0edd');\n",
              "          const dataTable =\n",
              "            await google.colab.kernel.invokeFunction('convertToInteractive',\n",
              "                                                     [key], {});\n",
              "          if (!dataTable) return;\n",
              "\n",
              "          const docLinkHtml = 'Like what you see? Visit the ' +\n",
              "            '<a target=\"_blank\" href=https://colab.research.google.com/notebooks/data_table.ipynb>data table notebook</a>'\n",
              "            + ' to learn more about interactive tables.';\n",
              "          element.innerHTML = '';\n",
              "          dataTable['output_type'] = 'display_data';\n",
              "          await google.colab.output.renderOutput(dataTable, element);\n",
              "          const docLink = document.createElement('div');\n",
              "          docLink.innerHTML = docLinkHtml;\n",
              "          element.appendChild(docLink);\n",
              "        }\n",
              "      </script>\n",
              "    </div>\n",
              "  </div>\n",
              "  "
            ]
          },
          "metadata": {},
          "execution_count": 123
        }
      ],
      "source": [
        "df1.head()"
      ]
    },
    {
      "cell_type": "code",
      "execution_count": null,
      "metadata": {
        "id": "0KScARdOlpn6"
      },
      "outputs": [],
      "source": [
        "df = df1.drop(['filename', 'length'], axis=1)"
      ]
    },
    {
      "cell_type": "code",
      "execution_count": null,
      "metadata": {
        "id": "97nCi1tQlsUn",
        "colab": {
          "base_uri": "https://localhost:8080/",
          "height": 299
        },
        "outputId": "c89cb93c-27bd-4bac-beee-a850dfbba1ba"
      },
      "outputs": [
        {
          "output_type": "execute_result",
          "data": {
            "text/plain": [
              "   chroma_stft_mean  chroma_stft_var  rms_mean   rms_var  \\\n",
              "0          0.335406         0.091048  0.130405  0.003521   \n",
              "1          0.343065         0.086147  0.112699  0.001450   \n",
              "2          0.346815         0.092243  0.132003  0.004620   \n",
              "3          0.363639         0.086856  0.132565  0.002448   \n",
              "4          0.335579         0.088129  0.143289  0.001701   \n",
              "\n",
              "   spectral_centroid_mean  spectral_centroid_var  spectral_bandwidth_mean  \\\n",
              "0             1773.065032          167541.630869              1972.744388   \n",
              "1             1816.693777           90525.690866              2010.051501   \n",
              "2             1788.539719          111407.437613              2084.565132   \n",
              "3             1655.289045          111952.284517              1960.039988   \n",
              "4             1630.656199           79667.267654              1948.503884   \n",
              "\n",
              "   spectral_bandwidth_var  rolloff_mean   rolloff_var  ...  mfcc16_var  \\\n",
              "0           117335.771563   3714.560359  1.080790e+06  ...   39.687145   \n",
              "1            65671.875673   3869.682242  6.722448e+05  ...   64.748276   \n",
              "2            75124.921716   3997.639160  7.907127e+05  ...   67.336563   \n",
              "3            82913.639269   3568.300218  9.216524e+05  ...   47.739452   \n",
              "4            60204.020268   3469.992864  6.102111e+05  ...   30.336359   \n",
              "\n",
              "   mfcc17_mean  mfcc17_var  mfcc18_mean  mfcc18_var  mfcc19_mean  mfcc19_var  \\\n",
              "0    -3.241280   36.488243     0.722209   38.099152    -5.050335   33.618073   \n",
              "1    -6.055294   40.677654     0.159015   51.264091    -2.837699   97.030830   \n",
              "2    -1.768610   28.348579     2.378768   45.717648    -1.938424   53.050835   \n",
              "3    -3.841155   28.337118     1.218588   34.770935    -3.580352   50.836224   \n",
              "4     0.664582   45.880913     1.689446   51.363583    -3.392489   26.738789   \n",
              "\n",
              "   mfcc20_mean  mfcc20_var  label  \n",
              "0    -0.243027   43.771767  blues  \n",
              "1     5.784063   59.943081  blues  \n",
              "2     2.517375   33.105122  blues  \n",
              "3     3.630866   32.023678  blues  \n",
              "4     0.536961   29.146694  blues  \n",
              "\n",
              "[5 rows x 58 columns]"
            ],
            "text/html": [
              "\n",
              "  <div id=\"df-5ea5e4d7-5ddc-4d09-a1e8-9046122c9ba1\">\n",
              "    <div class=\"colab-df-container\">\n",
              "      <div>\n",
              "<style scoped>\n",
              "    .dataframe tbody tr th:only-of-type {\n",
              "        vertical-align: middle;\n",
              "    }\n",
              "\n",
              "    .dataframe tbody tr th {\n",
              "        vertical-align: top;\n",
              "    }\n",
              "\n",
              "    .dataframe thead th {\n",
              "        text-align: right;\n",
              "    }\n",
              "</style>\n",
              "<table border=\"1\" class=\"dataframe\">\n",
              "  <thead>\n",
              "    <tr style=\"text-align: right;\">\n",
              "      <th></th>\n",
              "      <th>chroma_stft_mean</th>\n",
              "      <th>chroma_stft_var</th>\n",
              "      <th>rms_mean</th>\n",
              "      <th>rms_var</th>\n",
              "      <th>spectral_centroid_mean</th>\n",
              "      <th>spectral_centroid_var</th>\n",
              "      <th>spectral_bandwidth_mean</th>\n",
              "      <th>spectral_bandwidth_var</th>\n",
              "      <th>rolloff_mean</th>\n",
              "      <th>rolloff_var</th>\n",
              "      <th>...</th>\n",
              "      <th>mfcc16_var</th>\n",
              "      <th>mfcc17_mean</th>\n",
              "      <th>mfcc17_var</th>\n",
              "      <th>mfcc18_mean</th>\n",
              "      <th>mfcc18_var</th>\n",
              "      <th>mfcc19_mean</th>\n",
              "      <th>mfcc19_var</th>\n",
              "      <th>mfcc20_mean</th>\n",
              "      <th>mfcc20_var</th>\n",
              "      <th>label</th>\n",
              "    </tr>\n",
              "  </thead>\n",
              "  <tbody>\n",
              "    <tr>\n",
              "      <th>0</th>\n",
              "      <td>0.335406</td>\n",
              "      <td>0.091048</td>\n",
              "      <td>0.130405</td>\n",
              "      <td>0.003521</td>\n",
              "      <td>1773.065032</td>\n",
              "      <td>167541.630869</td>\n",
              "      <td>1972.744388</td>\n",
              "      <td>117335.771563</td>\n",
              "      <td>3714.560359</td>\n",
              "      <td>1.080790e+06</td>\n",
              "      <td>...</td>\n",
              "      <td>39.687145</td>\n",
              "      <td>-3.241280</td>\n",
              "      <td>36.488243</td>\n",
              "      <td>0.722209</td>\n",
              "      <td>38.099152</td>\n",
              "      <td>-5.050335</td>\n",
              "      <td>33.618073</td>\n",
              "      <td>-0.243027</td>\n",
              "      <td>43.771767</td>\n",
              "      <td>blues</td>\n",
              "    </tr>\n",
              "    <tr>\n",
              "      <th>1</th>\n",
              "      <td>0.343065</td>\n",
              "      <td>0.086147</td>\n",
              "      <td>0.112699</td>\n",
              "      <td>0.001450</td>\n",
              "      <td>1816.693777</td>\n",
              "      <td>90525.690866</td>\n",
              "      <td>2010.051501</td>\n",
              "      <td>65671.875673</td>\n",
              "      <td>3869.682242</td>\n",
              "      <td>6.722448e+05</td>\n",
              "      <td>...</td>\n",
              "      <td>64.748276</td>\n",
              "      <td>-6.055294</td>\n",
              "      <td>40.677654</td>\n",
              "      <td>0.159015</td>\n",
              "      <td>51.264091</td>\n",
              "      <td>-2.837699</td>\n",
              "      <td>97.030830</td>\n",
              "      <td>5.784063</td>\n",
              "      <td>59.943081</td>\n",
              "      <td>blues</td>\n",
              "    </tr>\n",
              "    <tr>\n",
              "      <th>2</th>\n",
              "      <td>0.346815</td>\n",
              "      <td>0.092243</td>\n",
              "      <td>0.132003</td>\n",
              "      <td>0.004620</td>\n",
              "      <td>1788.539719</td>\n",
              "      <td>111407.437613</td>\n",
              "      <td>2084.565132</td>\n",
              "      <td>75124.921716</td>\n",
              "      <td>3997.639160</td>\n",
              "      <td>7.907127e+05</td>\n",
              "      <td>...</td>\n",
              "      <td>67.336563</td>\n",
              "      <td>-1.768610</td>\n",
              "      <td>28.348579</td>\n",
              "      <td>2.378768</td>\n",
              "      <td>45.717648</td>\n",
              "      <td>-1.938424</td>\n",
              "      <td>53.050835</td>\n",
              "      <td>2.517375</td>\n",
              "      <td>33.105122</td>\n",
              "      <td>blues</td>\n",
              "    </tr>\n",
              "    <tr>\n",
              "      <th>3</th>\n",
              "      <td>0.363639</td>\n",
              "      <td>0.086856</td>\n",
              "      <td>0.132565</td>\n",
              "      <td>0.002448</td>\n",
              "      <td>1655.289045</td>\n",
              "      <td>111952.284517</td>\n",
              "      <td>1960.039988</td>\n",
              "      <td>82913.639269</td>\n",
              "      <td>3568.300218</td>\n",
              "      <td>9.216524e+05</td>\n",
              "      <td>...</td>\n",
              "      <td>47.739452</td>\n",
              "      <td>-3.841155</td>\n",
              "      <td>28.337118</td>\n",
              "      <td>1.218588</td>\n",
              "      <td>34.770935</td>\n",
              "      <td>-3.580352</td>\n",
              "      <td>50.836224</td>\n",
              "      <td>3.630866</td>\n",
              "      <td>32.023678</td>\n",
              "      <td>blues</td>\n",
              "    </tr>\n",
              "    <tr>\n",
              "      <th>4</th>\n",
              "      <td>0.335579</td>\n",
              "      <td>0.088129</td>\n",
              "      <td>0.143289</td>\n",
              "      <td>0.001701</td>\n",
              "      <td>1630.656199</td>\n",
              "      <td>79667.267654</td>\n",
              "      <td>1948.503884</td>\n",
              "      <td>60204.020268</td>\n",
              "      <td>3469.992864</td>\n",
              "      <td>6.102111e+05</td>\n",
              "      <td>...</td>\n",
              "      <td>30.336359</td>\n",
              "      <td>0.664582</td>\n",
              "      <td>45.880913</td>\n",
              "      <td>1.689446</td>\n",
              "      <td>51.363583</td>\n",
              "      <td>-3.392489</td>\n",
              "      <td>26.738789</td>\n",
              "      <td>0.536961</td>\n",
              "      <td>29.146694</td>\n",
              "      <td>blues</td>\n",
              "    </tr>\n",
              "  </tbody>\n",
              "</table>\n",
              "<p>5 rows × 58 columns</p>\n",
              "</div>\n",
              "      <button class=\"colab-df-convert\" onclick=\"convertToInteractive('df-5ea5e4d7-5ddc-4d09-a1e8-9046122c9ba1')\"\n",
              "              title=\"Convert this dataframe to an interactive table.\"\n",
              "              style=\"display:none;\">\n",
              "        \n",
              "  <svg xmlns=\"http://www.w3.org/2000/svg\" height=\"24px\"viewBox=\"0 0 24 24\"\n",
              "       width=\"24px\">\n",
              "    <path d=\"M0 0h24v24H0V0z\" fill=\"none\"/>\n",
              "    <path d=\"M18.56 5.44l.94 2.06.94-2.06 2.06-.94-2.06-.94-.94-2.06-.94 2.06-2.06.94zm-11 1L8.5 8.5l.94-2.06 2.06-.94-2.06-.94L8.5 2.5l-.94 2.06-2.06.94zm10 10l.94 2.06.94-2.06 2.06-.94-2.06-.94-.94-2.06-.94 2.06-2.06.94z\"/><path d=\"M17.41 7.96l-1.37-1.37c-.4-.4-.92-.59-1.43-.59-.52 0-1.04.2-1.43.59L10.3 9.45l-7.72 7.72c-.78.78-.78 2.05 0 2.83L4 21.41c.39.39.9.59 1.41.59.51 0 1.02-.2 1.41-.59l7.78-7.78 2.81-2.81c.8-.78.8-2.07 0-2.86zM5.41 20L4 18.59l7.72-7.72 1.47 1.35L5.41 20z\"/>\n",
              "  </svg>\n",
              "      </button>\n",
              "      \n",
              "  <style>\n",
              "    .colab-df-container {\n",
              "      display:flex;\n",
              "      flex-wrap:wrap;\n",
              "      gap: 12px;\n",
              "    }\n",
              "\n",
              "    .colab-df-convert {\n",
              "      background-color: #E8F0FE;\n",
              "      border: none;\n",
              "      border-radius: 50%;\n",
              "      cursor: pointer;\n",
              "      display: none;\n",
              "      fill: #1967D2;\n",
              "      height: 32px;\n",
              "      padding: 0 0 0 0;\n",
              "      width: 32px;\n",
              "    }\n",
              "\n",
              "    .colab-df-convert:hover {\n",
              "      background-color: #E2EBFA;\n",
              "      box-shadow: 0px 1px 2px rgba(60, 64, 67, 0.3), 0px 1px 3px 1px rgba(60, 64, 67, 0.15);\n",
              "      fill: #174EA6;\n",
              "    }\n",
              "\n",
              "    [theme=dark] .colab-df-convert {\n",
              "      background-color: #3B4455;\n",
              "      fill: #D2E3FC;\n",
              "    }\n",
              "\n",
              "    [theme=dark] .colab-df-convert:hover {\n",
              "      background-color: #434B5C;\n",
              "      box-shadow: 0px 1px 3px 1px rgba(0, 0, 0, 0.15);\n",
              "      filter: drop-shadow(0px 1px 2px rgba(0, 0, 0, 0.3));\n",
              "      fill: #FFFFFF;\n",
              "    }\n",
              "  </style>\n",
              "\n",
              "      <script>\n",
              "        const buttonEl =\n",
              "          document.querySelector('#df-5ea5e4d7-5ddc-4d09-a1e8-9046122c9ba1 button.colab-df-convert');\n",
              "        buttonEl.style.display =\n",
              "          google.colab.kernel.accessAllowed ? 'block' : 'none';\n",
              "\n",
              "        async function convertToInteractive(key) {\n",
              "          const element = document.querySelector('#df-5ea5e4d7-5ddc-4d09-a1e8-9046122c9ba1');\n",
              "          const dataTable =\n",
              "            await google.colab.kernel.invokeFunction('convertToInteractive',\n",
              "                                                     [key], {});\n",
              "          if (!dataTable) return;\n",
              "\n",
              "          const docLinkHtml = 'Like what you see? Visit the ' +\n",
              "            '<a target=\"_blank\" href=https://colab.research.google.com/notebooks/data_table.ipynb>data table notebook</a>'\n",
              "            + ' to learn more about interactive tables.';\n",
              "          element.innerHTML = '';\n",
              "          dataTable['output_type'] = 'display_data';\n",
              "          await google.colab.output.renderOutput(dataTable, element);\n",
              "          const docLink = document.createElement('div');\n",
              "          docLink.innerHTML = docLinkHtml;\n",
              "          element.appendChild(docLink);\n",
              "        }\n",
              "      </script>\n",
              "    </div>\n",
              "  </div>\n",
              "  "
            ]
          },
          "metadata": {},
          "execution_count": 125
        }
      ],
      "source": [
        "df.head()"
      ]
    },
    {
      "cell_type": "code",
      "execution_count": null,
      "metadata": {
        "id": "z2EzS5lalxn_",
        "colab": {
          "base_uri": "https://localhost:8080/"
        },
        "outputId": "2162dcb5-d0ab-4fec-8657-e9346cc54f8b"
      },
      "outputs": [
        {
          "output_type": "stream",
          "name": "stdout",
          "text": [
            "chroma_stft_mean           0\n",
            "chroma_stft_var            0\n",
            "rms_mean                   0\n",
            "rms_var                    0\n",
            "spectral_centroid_mean     0\n",
            "spectral_centroid_var      0\n",
            "spectral_bandwidth_mean    0\n",
            "spectral_bandwidth_var     0\n",
            "rolloff_mean               0\n",
            "rolloff_var                0\n",
            "zero_crossing_rate_mean    0\n",
            "zero_crossing_rate_var     0\n",
            "harmony_mean               0\n",
            "harmony_var                0\n",
            "perceptr_mean              0\n",
            "perceptr_var               0\n",
            "tempo                      0\n",
            "mfcc1_mean                 0\n",
            "mfcc1_var                  0\n",
            "mfcc2_mean                 0\n",
            "mfcc2_var                  0\n",
            "mfcc3_mean                 0\n",
            "mfcc3_var                  0\n",
            "mfcc4_mean                 0\n",
            "mfcc4_var                  0\n",
            "mfcc5_mean                 0\n",
            "mfcc5_var                  0\n",
            "mfcc6_mean                 0\n",
            "mfcc6_var                  0\n",
            "mfcc7_mean                 0\n",
            "mfcc7_var                  0\n",
            "mfcc8_mean                 0\n",
            "mfcc8_var                  0\n",
            "mfcc9_mean                 0\n",
            "mfcc9_var                  0\n",
            "mfcc10_mean                0\n",
            "mfcc10_var                 0\n",
            "mfcc11_mean                0\n",
            "mfcc11_var                 0\n",
            "mfcc12_mean                0\n",
            "mfcc12_var                 0\n",
            "mfcc13_mean                0\n",
            "mfcc13_var                 0\n",
            "mfcc14_mean                0\n",
            "mfcc14_var                 0\n",
            "mfcc15_mean                0\n",
            "mfcc15_var                 0\n",
            "mfcc16_mean                0\n",
            "mfcc16_var                 0\n",
            "mfcc17_mean                0\n",
            "mfcc17_var                 0\n",
            "mfcc18_mean                0\n",
            "mfcc18_var                 0\n",
            "mfcc19_mean                0\n",
            "mfcc19_var                 0\n",
            "mfcc20_mean                0\n",
            "mfcc20_var                 0\n",
            "label                      0\n",
            "dtype: int64\n"
          ]
        }
      ],
      "source": [
        "print(df.isnull().sum())"
      ]
    },
    {
      "cell_type": "code",
      "execution_count": null,
      "metadata": {
        "id": "VXgYwLW5l2EZ",
        "colab": {
          "base_uri": "https://localhost:8080/"
        },
        "outputId": "b2815e74-aa45-40b3-a4e1-4aba08840e84"
      },
      "outputs": [
        {
          "output_type": "execute_result",
          "data": {
            "text/plain": [
              "chroma_stft_mean           float64\n",
              "chroma_stft_var            float64\n",
              "rms_mean                   float64\n",
              "rms_var                    float64\n",
              "spectral_centroid_mean     float64\n",
              "spectral_centroid_var      float64\n",
              "spectral_bandwidth_mean    float64\n",
              "spectral_bandwidth_var     float64\n",
              "rolloff_mean               float64\n",
              "rolloff_var                float64\n",
              "zero_crossing_rate_mean    float64\n",
              "zero_crossing_rate_var     float64\n",
              "harmony_mean               float64\n",
              "harmony_var                float64\n",
              "perceptr_mean              float64\n",
              "perceptr_var               float64\n",
              "tempo                      float64\n",
              "mfcc1_mean                 float64\n",
              "mfcc1_var                  float64\n",
              "mfcc2_mean                 float64\n",
              "mfcc2_var                  float64\n",
              "mfcc3_mean                 float64\n",
              "mfcc3_var                  float64\n",
              "mfcc4_mean                 float64\n",
              "mfcc4_var                  float64\n",
              "mfcc5_mean                 float64\n",
              "mfcc5_var                  float64\n",
              "mfcc6_mean                 float64\n",
              "mfcc6_var                  float64\n",
              "mfcc7_mean                 float64\n",
              "mfcc7_var                  float64\n",
              "mfcc8_mean                 float64\n",
              "mfcc8_var                  float64\n",
              "mfcc9_mean                 float64\n",
              "mfcc9_var                  float64\n",
              "mfcc10_mean                float64\n",
              "mfcc10_var                 float64\n",
              "mfcc11_mean                float64\n",
              "mfcc11_var                 float64\n",
              "mfcc12_mean                float64\n",
              "mfcc12_var                 float64\n",
              "mfcc13_mean                float64\n",
              "mfcc13_var                 float64\n",
              "mfcc14_mean                float64\n",
              "mfcc14_var                 float64\n",
              "mfcc15_mean                float64\n",
              "mfcc15_var                 float64\n",
              "mfcc16_mean                float64\n",
              "mfcc16_var                 float64\n",
              "mfcc17_mean                float64\n",
              "mfcc17_var                 float64\n",
              "mfcc18_mean                float64\n",
              "mfcc18_var                 float64\n",
              "mfcc19_mean                float64\n",
              "mfcc19_var                 float64\n",
              "mfcc20_mean                float64\n",
              "mfcc20_var                 float64\n",
              "label                       object\n",
              "dtype: object"
            ]
          },
          "metadata": {},
          "execution_count": 127
        }
      ],
      "source": [
        "df.dtypes"
      ]
    },
    {
      "cell_type": "code",
      "execution_count": null,
      "metadata": {
        "id": "IqqM8Dg1l-5K",
        "colab": {
          "base_uri": "https://localhost:8080/",
          "height": 299
        },
        "outputId": "eeb4db73-8531-423a-a4d7-10edaa48b4b2"
      },
      "outputs": [
        {
          "output_type": "execute_result",
          "data": {
            "text/plain": [
              "      chroma_stft_mean  chroma_stft_var  rms_mean   rms_var  \\\n",
              "9985          0.349126         0.080515  0.050019  0.000097   \n",
              "9986          0.372564         0.082626  0.057897  0.000088   \n",
              "9987          0.347481         0.089019  0.052403  0.000701   \n",
              "9988          0.387527         0.084815  0.066430  0.000320   \n",
              "9989          0.369293         0.086759  0.050524  0.000067   \n",
              "\n",
              "      spectral_centroid_mean  spectral_centroid_var  spectral_bandwidth_mean  \\\n",
              "9985             1499.083005          164266.886443              1718.707215   \n",
              "9986             1847.965128          281054.935973              1906.468492   \n",
              "9987             1346.157659          662956.246325              1561.859087   \n",
              "9988             2084.515327          203891.039161              2018.366254   \n",
              "9989             1634.330126          411429.169769              1867.422378   \n",
              "\n",
              "      spectral_bandwidth_var  rolloff_mean   rolloff_var  ...  mfcc16_var  \\\n",
              "9985            85931.574523   3015.559458  8.479527e+05  ...   42.485981   \n",
              "9986            99727.037054   3746.694524  1.170890e+06  ...   32.415203   \n",
              "9987           138762.841945   2442.362154  2.602871e+06  ...   78.228149   \n",
              "9988            22860.992562   4313.266226  4.968878e+05  ...   28.323744   \n",
              "9989           119722.211518   3462.042142  1.517016e+06  ...   38.801735   \n",
              "\n",
              "      mfcc17_mean  mfcc17_var  mfcc18_mean  mfcc18_var  mfcc19_mean  \\\n",
              "9985    -9.094270   38.326839    -4.246976   31.049839    -5.625813   \n",
              "9986   -12.375726   66.418587    -3.081278   54.414265   -11.960546   \n",
              "9987    -2.524483   21.778994     4.809936   25.980829     1.775686   \n",
              "9988    -5.363541   17.209942     6.462601   21.442928     2.354765   \n",
              "9989   -11.598399   58.983097    -0.178517   55.761299    -6.903252   \n",
              "\n",
              "      mfcc19_var  mfcc20_mean  mfcc20_var  label  \n",
              "9985   48.804092     1.818823   38.966969   rock  \n",
              "9986   63.452255     0.428857   18.697033   rock  \n",
              "9987   48.582378    -0.299545   41.586990   rock  \n",
              "9988   24.843613     0.675824   12.787750   rock  \n",
              "9989   39.485901    -3.412534   31.727489   rock  \n",
              "\n",
              "[5 rows x 58 columns]"
            ],
            "text/html": [
              "\n",
              "  <div id=\"df-7bc69698-eb44-457c-b444-9c808c8c5b30\">\n",
              "    <div class=\"colab-df-container\">\n",
              "      <div>\n",
              "<style scoped>\n",
              "    .dataframe tbody tr th:only-of-type {\n",
              "        vertical-align: middle;\n",
              "    }\n",
              "\n",
              "    .dataframe tbody tr th {\n",
              "        vertical-align: top;\n",
              "    }\n",
              "\n",
              "    .dataframe thead th {\n",
              "        text-align: right;\n",
              "    }\n",
              "</style>\n",
              "<table border=\"1\" class=\"dataframe\">\n",
              "  <thead>\n",
              "    <tr style=\"text-align: right;\">\n",
              "      <th></th>\n",
              "      <th>chroma_stft_mean</th>\n",
              "      <th>chroma_stft_var</th>\n",
              "      <th>rms_mean</th>\n",
              "      <th>rms_var</th>\n",
              "      <th>spectral_centroid_mean</th>\n",
              "      <th>spectral_centroid_var</th>\n",
              "      <th>spectral_bandwidth_mean</th>\n",
              "      <th>spectral_bandwidth_var</th>\n",
              "      <th>rolloff_mean</th>\n",
              "      <th>rolloff_var</th>\n",
              "      <th>...</th>\n",
              "      <th>mfcc16_var</th>\n",
              "      <th>mfcc17_mean</th>\n",
              "      <th>mfcc17_var</th>\n",
              "      <th>mfcc18_mean</th>\n",
              "      <th>mfcc18_var</th>\n",
              "      <th>mfcc19_mean</th>\n",
              "      <th>mfcc19_var</th>\n",
              "      <th>mfcc20_mean</th>\n",
              "      <th>mfcc20_var</th>\n",
              "      <th>label</th>\n",
              "    </tr>\n",
              "  </thead>\n",
              "  <tbody>\n",
              "    <tr>\n",
              "      <th>9985</th>\n",
              "      <td>0.349126</td>\n",
              "      <td>0.080515</td>\n",
              "      <td>0.050019</td>\n",
              "      <td>0.000097</td>\n",
              "      <td>1499.083005</td>\n",
              "      <td>164266.886443</td>\n",
              "      <td>1718.707215</td>\n",
              "      <td>85931.574523</td>\n",
              "      <td>3015.559458</td>\n",
              "      <td>8.479527e+05</td>\n",
              "      <td>...</td>\n",
              "      <td>42.485981</td>\n",
              "      <td>-9.094270</td>\n",
              "      <td>38.326839</td>\n",
              "      <td>-4.246976</td>\n",
              "      <td>31.049839</td>\n",
              "      <td>-5.625813</td>\n",
              "      <td>48.804092</td>\n",
              "      <td>1.818823</td>\n",
              "      <td>38.966969</td>\n",
              "      <td>rock</td>\n",
              "    </tr>\n",
              "    <tr>\n",
              "      <th>9986</th>\n",
              "      <td>0.372564</td>\n",
              "      <td>0.082626</td>\n",
              "      <td>0.057897</td>\n",
              "      <td>0.000088</td>\n",
              "      <td>1847.965128</td>\n",
              "      <td>281054.935973</td>\n",
              "      <td>1906.468492</td>\n",
              "      <td>99727.037054</td>\n",
              "      <td>3746.694524</td>\n",
              "      <td>1.170890e+06</td>\n",
              "      <td>...</td>\n",
              "      <td>32.415203</td>\n",
              "      <td>-12.375726</td>\n",
              "      <td>66.418587</td>\n",
              "      <td>-3.081278</td>\n",
              "      <td>54.414265</td>\n",
              "      <td>-11.960546</td>\n",
              "      <td>63.452255</td>\n",
              "      <td>0.428857</td>\n",
              "      <td>18.697033</td>\n",
              "      <td>rock</td>\n",
              "    </tr>\n",
              "    <tr>\n",
              "      <th>9987</th>\n",
              "      <td>0.347481</td>\n",
              "      <td>0.089019</td>\n",
              "      <td>0.052403</td>\n",
              "      <td>0.000701</td>\n",
              "      <td>1346.157659</td>\n",
              "      <td>662956.246325</td>\n",
              "      <td>1561.859087</td>\n",
              "      <td>138762.841945</td>\n",
              "      <td>2442.362154</td>\n",
              "      <td>2.602871e+06</td>\n",
              "      <td>...</td>\n",
              "      <td>78.228149</td>\n",
              "      <td>-2.524483</td>\n",
              "      <td>21.778994</td>\n",
              "      <td>4.809936</td>\n",
              "      <td>25.980829</td>\n",
              "      <td>1.775686</td>\n",
              "      <td>48.582378</td>\n",
              "      <td>-0.299545</td>\n",
              "      <td>41.586990</td>\n",
              "      <td>rock</td>\n",
              "    </tr>\n",
              "    <tr>\n",
              "      <th>9988</th>\n",
              "      <td>0.387527</td>\n",
              "      <td>0.084815</td>\n",
              "      <td>0.066430</td>\n",
              "      <td>0.000320</td>\n",
              "      <td>2084.515327</td>\n",
              "      <td>203891.039161</td>\n",
              "      <td>2018.366254</td>\n",
              "      <td>22860.992562</td>\n",
              "      <td>4313.266226</td>\n",
              "      <td>4.968878e+05</td>\n",
              "      <td>...</td>\n",
              "      <td>28.323744</td>\n",
              "      <td>-5.363541</td>\n",
              "      <td>17.209942</td>\n",
              "      <td>6.462601</td>\n",
              "      <td>21.442928</td>\n",
              "      <td>2.354765</td>\n",
              "      <td>24.843613</td>\n",
              "      <td>0.675824</td>\n",
              "      <td>12.787750</td>\n",
              "      <td>rock</td>\n",
              "    </tr>\n",
              "    <tr>\n",
              "      <th>9989</th>\n",
              "      <td>0.369293</td>\n",
              "      <td>0.086759</td>\n",
              "      <td>0.050524</td>\n",
              "      <td>0.000067</td>\n",
              "      <td>1634.330126</td>\n",
              "      <td>411429.169769</td>\n",
              "      <td>1867.422378</td>\n",
              "      <td>119722.211518</td>\n",
              "      <td>3462.042142</td>\n",
              "      <td>1.517016e+06</td>\n",
              "      <td>...</td>\n",
              "      <td>38.801735</td>\n",
              "      <td>-11.598399</td>\n",
              "      <td>58.983097</td>\n",
              "      <td>-0.178517</td>\n",
              "      <td>55.761299</td>\n",
              "      <td>-6.903252</td>\n",
              "      <td>39.485901</td>\n",
              "      <td>-3.412534</td>\n",
              "      <td>31.727489</td>\n",
              "      <td>rock</td>\n",
              "    </tr>\n",
              "  </tbody>\n",
              "</table>\n",
              "<p>5 rows × 58 columns</p>\n",
              "</div>\n",
              "      <button class=\"colab-df-convert\" onclick=\"convertToInteractive('df-7bc69698-eb44-457c-b444-9c808c8c5b30')\"\n",
              "              title=\"Convert this dataframe to an interactive table.\"\n",
              "              style=\"display:none;\">\n",
              "        \n",
              "  <svg xmlns=\"http://www.w3.org/2000/svg\" height=\"24px\"viewBox=\"0 0 24 24\"\n",
              "       width=\"24px\">\n",
              "    <path d=\"M0 0h24v24H0V0z\" fill=\"none\"/>\n",
              "    <path d=\"M18.56 5.44l.94 2.06.94-2.06 2.06-.94-2.06-.94-.94-2.06-.94 2.06-2.06.94zm-11 1L8.5 8.5l.94-2.06 2.06-.94-2.06-.94L8.5 2.5l-.94 2.06-2.06.94zm10 10l.94 2.06.94-2.06 2.06-.94-2.06-.94-.94-2.06-.94 2.06-2.06.94z\"/><path d=\"M17.41 7.96l-1.37-1.37c-.4-.4-.92-.59-1.43-.59-.52 0-1.04.2-1.43.59L10.3 9.45l-7.72 7.72c-.78.78-.78 2.05 0 2.83L4 21.41c.39.39.9.59 1.41.59.51 0 1.02-.2 1.41-.59l7.78-7.78 2.81-2.81c.8-.78.8-2.07 0-2.86zM5.41 20L4 18.59l7.72-7.72 1.47 1.35L5.41 20z\"/>\n",
              "  </svg>\n",
              "      </button>\n",
              "      \n",
              "  <style>\n",
              "    .colab-df-container {\n",
              "      display:flex;\n",
              "      flex-wrap:wrap;\n",
              "      gap: 12px;\n",
              "    }\n",
              "\n",
              "    .colab-df-convert {\n",
              "      background-color: #E8F0FE;\n",
              "      border: none;\n",
              "      border-radius: 50%;\n",
              "      cursor: pointer;\n",
              "      display: none;\n",
              "      fill: #1967D2;\n",
              "      height: 32px;\n",
              "      padding: 0 0 0 0;\n",
              "      width: 32px;\n",
              "    }\n",
              "\n",
              "    .colab-df-convert:hover {\n",
              "      background-color: #E2EBFA;\n",
              "      box-shadow: 0px 1px 2px rgba(60, 64, 67, 0.3), 0px 1px 3px 1px rgba(60, 64, 67, 0.15);\n",
              "      fill: #174EA6;\n",
              "    }\n",
              "\n",
              "    [theme=dark] .colab-df-convert {\n",
              "      background-color: #3B4455;\n",
              "      fill: #D2E3FC;\n",
              "    }\n",
              "\n",
              "    [theme=dark] .colab-df-convert:hover {\n",
              "      background-color: #434B5C;\n",
              "      box-shadow: 0px 1px 3px 1px rgba(0, 0, 0, 0.15);\n",
              "      filter: drop-shadow(0px 1px 2px rgba(0, 0, 0, 0.3));\n",
              "      fill: #FFFFFF;\n",
              "    }\n",
              "  </style>\n",
              "\n",
              "      <script>\n",
              "        const buttonEl =\n",
              "          document.querySelector('#df-7bc69698-eb44-457c-b444-9c808c8c5b30 button.colab-df-convert');\n",
              "        buttonEl.style.display =\n",
              "          google.colab.kernel.accessAllowed ? 'block' : 'none';\n",
              "\n",
              "        async function convertToInteractive(key) {\n",
              "          const element = document.querySelector('#df-7bc69698-eb44-457c-b444-9c808c8c5b30');\n",
              "          const dataTable =\n",
              "            await google.colab.kernel.invokeFunction('convertToInteractive',\n",
              "                                                     [key], {});\n",
              "          if (!dataTable) return;\n",
              "\n",
              "          const docLinkHtml = 'Like what you see? Visit the ' +\n",
              "            '<a target=\"_blank\" href=https://colab.research.google.com/notebooks/data_table.ipynb>data table notebook</a>'\n",
              "            + ' to learn more about interactive tables.';\n",
              "          element.innerHTML = '';\n",
              "          dataTable['output_type'] = 'display_data';\n",
              "          await google.colab.output.renderOutput(dataTable, element);\n",
              "          const docLink = document.createElement('div');\n",
              "          docLink.innerHTML = docLinkHtml;\n",
              "          element.appendChild(docLink);\n",
              "        }\n",
              "      </script>\n",
              "    </div>\n",
              "  </div>\n",
              "  "
            ]
          },
          "metadata": {},
          "execution_count": 128
        }
      ],
      "source": [
        "df.tail()"
      ]
    },
    {
      "cell_type": "code",
      "execution_count": null,
      "metadata": {
        "id": "GFdYjKXXmB3Q"
      },
      "outputs": [],
      "source": [
        "x = df.iloc[:, 0:57]\n",
        "y = df.iloc[:, 57]"
      ]
    },
    {
      "cell_type": "code",
      "execution_count": null,
      "metadata": {
        "id": "8gBSvr6wmEcZ",
        "colab": {
          "base_uri": "https://localhost:8080/",
          "height": 299
        },
        "outputId": "6d5727e0-9a22-43cf-ef73-4dc7930b1b8f"
      },
      "outputs": [
        {
          "output_type": "execute_result",
          "data": {
            "text/plain": [
              "   chroma_stft_mean  chroma_stft_var  rms_mean   rms_var  \\\n",
              "0          0.335406         0.091048  0.130405  0.003521   \n",
              "1          0.343065         0.086147  0.112699  0.001450   \n",
              "2          0.346815         0.092243  0.132003  0.004620   \n",
              "3          0.363639         0.086856  0.132565  0.002448   \n",
              "4          0.335579         0.088129  0.143289  0.001701   \n",
              "\n",
              "   spectral_centroid_mean  spectral_centroid_var  spectral_bandwidth_mean  \\\n",
              "0             1773.065032          167541.630869              1972.744388   \n",
              "1             1816.693777           90525.690866              2010.051501   \n",
              "2             1788.539719          111407.437613              2084.565132   \n",
              "3             1655.289045          111952.284517              1960.039988   \n",
              "4             1630.656199           79667.267654              1948.503884   \n",
              "\n",
              "   spectral_bandwidth_var  rolloff_mean   rolloff_var  ...  mfcc16_mean  \\\n",
              "0           117335.771563   3714.560359  1.080790e+06  ...    -2.853603   \n",
              "1            65671.875673   3869.682242  6.722448e+05  ...     4.074709   \n",
              "2            75124.921716   3997.639160  7.907127e+05  ...     4.806280   \n",
              "3            82913.639269   3568.300218  9.216524e+05  ...    -1.359111   \n",
              "4            60204.020268   3469.992864  6.102111e+05  ...     2.092937   \n",
              "\n",
              "   mfcc16_var  mfcc17_mean  mfcc17_var  mfcc18_mean  mfcc18_var  mfcc19_mean  \\\n",
              "0   39.687145    -3.241280   36.488243     0.722209   38.099152    -5.050335   \n",
              "1   64.748276    -6.055294   40.677654     0.159015   51.264091    -2.837699   \n",
              "2   67.336563    -1.768610   28.348579     2.378768   45.717648    -1.938424   \n",
              "3   47.739452    -3.841155   28.337118     1.218588   34.770935    -3.580352   \n",
              "4   30.336359     0.664582   45.880913     1.689446   51.363583    -3.392489   \n",
              "\n",
              "   mfcc19_var  mfcc20_mean  mfcc20_var  \n",
              "0   33.618073    -0.243027   43.771767  \n",
              "1   97.030830     5.784063   59.943081  \n",
              "2   53.050835     2.517375   33.105122  \n",
              "3   50.836224     3.630866   32.023678  \n",
              "4   26.738789     0.536961   29.146694  \n",
              "\n",
              "[5 rows x 57 columns]"
            ],
            "text/html": [
              "\n",
              "  <div id=\"df-a92a7301-233b-4bed-959e-8401900cf5ce\">\n",
              "    <div class=\"colab-df-container\">\n",
              "      <div>\n",
              "<style scoped>\n",
              "    .dataframe tbody tr th:only-of-type {\n",
              "        vertical-align: middle;\n",
              "    }\n",
              "\n",
              "    .dataframe tbody tr th {\n",
              "        vertical-align: top;\n",
              "    }\n",
              "\n",
              "    .dataframe thead th {\n",
              "        text-align: right;\n",
              "    }\n",
              "</style>\n",
              "<table border=\"1\" class=\"dataframe\">\n",
              "  <thead>\n",
              "    <tr style=\"text-align: right;\">\n",
              "      <th></th>\n",
              "      <th>chroma_stft_mean</th>\n",
              "      <th>chroma_stft_var</th>\n",
              "      <th>rms_mean</th>\n",
              "      <th>rms_var</th>\n",
              "      <th>spectral_centroid_mean</th>\n",
              "      <th>spectral_centroid_var</th>\n",
              "      <th>spectral_bandwidth_mean</th>\n",
              "      <th>spectral_bandwidth_var</th>\n",
              "      <th>rolloff_mean</th>\n",
              "      <th>rolloff_var</th>\n",
              "      <th>...</th>\n",
              "      <th>mfcc16_mean</th>\n",
              "      <th>mfcc16_var</th>\n",
              "      <th>mfcc17_mean</th>\n",
              "      <th>mfcc17_var</th>\n",
              "      <th>mfcc18_mean</th>\n",
              "      <th>mfcc18_var</th>\n",
              "      <th>mfcc19_mean</th>\n",
              "      <th>mfcc19_var</th>\n",
              "      <th>mfcc20_mean</th>\n",
              "      <th>mfcc20_var</th>\n",
              "    </tr>\n",
              "  </thead>\n",
              "  <tbody>\n",
              "    <tr>\n",
              "      <th>0</th>\n",
              "      <td>0.335406</td>\n",
              "      <td>0.091048</td>\n",
              "      <td>0.130405</td>\n",
              "      <td>0.003521</td>\n",
              "      <td>1773.065032</td>\n",
              "      <td>167541.630869</td>\n",
              "      <td>1972.744388</td>\n",
              "      <td>117335.771563</td>\n",
              "      <td>3714.560359</td>\n",
              "      <td>1.080790e+06</td>\n",
              "      <td>...</td>\n",
              "      <td>-2.853603</td>\n",
              "      <td>39.687145</td>\n",
              "      <td>-3.241280</td>\n",
              "      <td>36.488243</td>\n",
              "      <td>0.722209</td>\n",
              "      <td>38.099152</td>\n",
              "      <td>-5.050335</td>\n",
              "      <td>33.618073</td>\n",
              "      <td>-0.243027</td>\n",
              "      <td>43.771767</td>\n",
              "    </tr>\n",
              "    <tr>\n",
              "      <th>1</th>\n",
              "      <td>0.343065</td>\n",
              "      <td>0.086147</td>\n",
              "      <td>0.112699</td>\n",
              "      <td>0.001450</td>\n",
              "      <td>1816.693777</td>\n",
              "      <td>90525.690866</td>\n",
              "      <td>2010.051501</td>\n",
              "      <td>65671.875673</td>\n",
              "      <td>3869.682242</td>\n",
              "      <td>6.722448e+05</td>\n",
              "      <td>...</td>\n",
              "      <td>4.074709</td>\n",
              "      <td>64.748276</td>\n",
              "      <td>-6.055294</td>\n",
              "      <td>40.677654</td>\n",
              "      <td>0.159015</td>\n",
              "      <td>51.264091</td>\n",
              "      <td>-2.837699</td>\n",
              "      <td>97.030830</td>\n",
              "      <td>5.784063</td>\n",
              "      <td>59.943081</td>\n",
              "    </tr>\n",
              "    <tr>\n",
              "      <th>2</th>\n",
              "      <td>0.346815</td>\n",
              "      <td>0.092243</td>\n",
              "      <td>0.132003</td>\n",
              "      <td>0.004620</td>\n",
              "      <td>1788.539719</td>\n",
              "      <td>111407.437613</td>\n",
              "      <td>2084.565132</td>\n",
              "      <td>75124.921716</td>\n",
              "      <td>3997.639160</td>\n",
              "      <td>7.907127e+05</td>\n",
              "      <td>...</td>\n",
              "      <td>4.806280</td>\n",
              "      <td>67.336563</td>\n",
              "      <td>-1.768610</td>\n",
              "      <td>28.348579</td>\n",
              "      <td>2.378768</td>\n",
              "      <td>45.717648</td>\n",
              "      <td>-1.938424</td>\n",
              "      <td>53.050835</td>\n",
              "      <td>2.517375</td>\n",
              "      <td>33.105122</td>\n",
              "    </tr>\n",
              "    <tr>\n",
              "      <th>3</th>\n",
              "      <td>0.363639</td>\n",
              "      <td>0.086856</td>\n",
              "      <td>0.132565</td>\n",
              "      <td>0.002448</td>\n",
              "      <td>1655.289045</td>\n",
              "      <td>111952.284517</td>\n",
              "      <td>1960.039988</td>\n",
              "      <td>82913.639269</td>\n",
              "      <td>3568.300218</td>\n",
              "      <td>9.216524e+05</td>\n",
              "      <td>...</td>\n",
              "      <td>-1.359111</td>\n",
              "      <td>47.739452</td>\n",
              "      <td>-3.841155</td>\n",
              "      <td>28.337118</td>\n",
              "      <td>1.218588</td>\n",
              "      <td>34.770935</td>\n",
              "      <td>-3.580352</td>\n",
              "      <td>50.836224</td>\n",
              "      <td>3.630866</td>\n",
              "      <td>32.023678</td>\n",
              "    </tr>\n",
              "    <tr>\n",
              "      <th>4</th>\n",
              "      <td>0.335579</td>\n",
              "      <td>0.088129</td>\n",
              "      <td>0.143289</td>\n",
              "      <td>0.001701</td>\n",
              "      <td>1630.656199</td>\n",
              "      <td>79667.267654</td>\n",
              "      <td>1948.503884</td>\n",
              "      <td>60204.020268</td>\n",
              "      <td>3469.992864</td>\n",
              "      <td>6.102111e+05</td>\n",
              "      <td>...</td>\n",
              "      <td>2.092937</td>\n",
              "      <td>30.336359</td>\n",
              "      <td>0.664582</td>\n",
              "      <td>45.880913</td>\n",
              "      <td>1.689446</td>\n",
              "      <td>51.363583</td>\n",
              "      <td>-3.392489</td>\n",
              "      <td>26.738789</td>\n",
              "      <td>0.536961</td>\n",
              "      <td>29.146694</td>\n",
              "    </tr>\n",
              "  </tbody>\n",
              "</table>\n",
              "<p>5 rows × 57 columns</p>\n",
              "</div>\n",
              "      <button class=\"colab-df-convert\" onclick=\"convertToInteractive('df-a92a7301-233b-4bed-959e-8401900cf5ce')\"\n",
              "              title=\"Convert this dataframe to an interactive table.\"\n",
              "              style=\"display:none;\">\n",
              "        \n",
              "  <svg xmlns=\"http://www.w3.org/2000/svg\" height=\"24px\"viewBox=\"0 0 24 24\"\n",
              "       width=\"24px\">\n",
              "    <path d=\"M0 0h24v24H0V0z\" fill=\"none\"/>\n",
              "    <path d=\"M18.56 5.44l.94 2.06.94-2.06 2.06-.94-2.06-.94-.94-2.06-.94 2.06-2.06.94zm-11 1L8.5 8.5l.94-2.06 2.06-.94-2.06-.94L8.5 2.5l-.94 2.06-2.06.94zm10 10l.94 2.06.94-2.06 2.06-.94-2.06-.94-.94-2.06-.94 2.06-2.06.94z\"/><path d=\"M17.41 7.96l-1.37-1.37c-.4-.4-.92-.59-1.43-.59-.52 0-1.04.2-1.43.59L10.3 9.45l-7.72 7.72c-.78.78-.78 2.05 0 2.83L4 21.41c.39.39.9.59 1.41.59.51 0 1.02-.2 1.41-.59l7.78-7.78 2.81-2.81c.8-.78.8-2.07 0-2.86zM5.41 20L4 18.59l7.72-7.72 1.47 1.35L5.41 20z\"/>\n",
              "  </svg>\n",
              "      </button>\n",
              "      \n",
              "  <style>\n",
              "    .colab-df-container {\n",
              "      display:flex;\n",
              "      flex-wrap:wrap;\n",
              "      gap: 12px;\n",
              "    }\n",
              "\n",
              "    .colab-df-convert {\n",
              "      background-color: #E8F0FE;\n",
              "      border: none;\n",
              "      border-radius: 50%;\n",
              "      cursor: pointer;\n",
              "      display: none;\n",
              "      fill: #1967D2;\n",
              "      height: 32px;\n",
              "      padding: 0 0 0 0;\n",
              "      width: 32px;\n",
              "    }\n",
              "\n",
              "    .colab-df-convert:hover {\n",
              "      background-color: #E2EBFA;\n",
              "      box-shadow: 0px 1px 2px rgba(60, 64, 67, 0.3), 0px 1px 3px 1px rgba(60, 64, 67, 0.15);\n",
              "      fill: #174EA6;\n",
              "    }\n",
              "\n",
              "    [theme=dark] .colab-df-convert {\n",
              "      background-color: #3B4455;\n",
              "      fill: #D2E3FC;\n",
              "    }\n",
              "\n",
              "    [theme=dark] .colab-df-convert:hover {\n",
              "      background-color: #434B5C;\n",
              "      box-shadow: 0px 1px 3px 1px rgba(0, 0, 0, 0.15);\n",
              "      filter: drop-shadow(0px 1px 2px rgba(0, 0, 0, 0.3));\n",
              "      fill: #FFFFFF;\n",
              "    }\n",
              "  </style>\n",
              "\n",
              "      <script>\n",
              "        const buttonEl =\n",
              "          document.querySelector('#df-a92a7301-233b-4bed-959e-8401900cf5ce button.colab-df-convert');\n",
              "        buttonEl.style.display =\n",
              "          google.colab.kernel.accessAllowed ? 'block' : 'none';\n",
              "\n",
              "        async function convertToInteractive(key) {\n",
              "          const element = document.querySelector('#df-a92a7301-233b-4bed-959e-8401900cf5ce');\n",
              "          const dataTable =\n",
              "            await google.colab.kernel.invokeFunction('convertToInteractive',\n",
              "                                                     [key], {});\n",
              "          if (!dataTable) return;\n",
              "\n",
              "          const docLinkHtml = 'Like what you see? Visit the ' +\n",
              "            '<a target=\"_blank\" href=https://colab.research.google.com/notebooks/data_table.ipynb>data table notebook</a>'\n",
              "            + ' to learn more about interactive tables.';\n",
              "          element.innerHTML = '';\n",
              "          dataTable['output_type'] = 'display_data';\n",
              "          await google.colab.output.renderOutput(dataTable, element);\n",
              "          const docLink = document.createElement('div');\n",
              "          docLink.innerHTML = docLinkHtml;\n",
              "          element.appendChild(docLink);\n",
              "        }\n",
              "      </script>\n",
              "    </div>\n",
              "  </div>\n",
              "  "
            ]
          },
          "metadata": {},
          "execution_count": 130
        }
      ],
      "source": [
        "x.head()"
      ]
    },
    {
      "cell_type": "code",
      "execution_count": null,
      "metadata": {
        "id": "AbYJAFIqmGzn",
        "colab": {
          "base_uri": "https://localhost:8080/"
        },
        "outputId": "08bc148a-4de6-4f22-e1e5-d38c5dc22859"
      },
      "outputs": [
        {
          "output_type": "execute_result",
          "data": {
            "text/plain": [
              "0    blues\n",
              "1    blues\n",
              "2    blues\n",
              "3    blues\n",
              "4    blues\n",
              "Name: label, dtype: object"
            ]
          },
          "metadata": {},
          "execution_count": 131
        }
      ],
      "source": [
        "y.head()"
      ]
    },
    {
      "cell_type": "code",
      "execution_count": null,
      "metadata": {
        "id": "KTFbiDl7mKtp"
      },
      "outputs": [],
      "source": [
        "x = x.to_numpy()\n",
        "y = y.to_numpy()"
      ]
    },
    {
      "cell_type": "code",
      "execution_count": null,
      "metadata": {
        "id": "-RVt4Uoyl6An"
      },
      "outputs": [],
      "source": [
        "le = LabelEncoder()"
      ]
    },
    {
      "cell_type": "code",
      "execution_count": null,
      "metadata": {
        "id": "OKSd6Z3pl8YJ"
      },
      "outputs": [],
      "source": [
        "y = le.fit_transform(y)"
      ]
    },
    {
      "cell_type": "code",
      "execution_count": null,
      "metadata": {
        "id": "B2YctpgOmOeU"
      },
      "outputs": [],
      "source": [
        "x_train, x_test, y_train, y_test = tts(x, y, train_size = 0.8, random_state = 675)"
      ]
    },
    {
      "cell_type": "code",
      "source": [
        "ss = StandardScaler()"
      ],
      "metadata": {
        "id": "Dew9OPlifdm7"
      },
      "execution_count": null,
      "outputs": []
    },
    {
      "cell_type": "code",
      "source": [
        "x1_train = ss.fit_transform(x_train)\n",
        "x1_test = ss.fit_transform(x_test)"
      ],
      "metadata": {
        "id": "3DkWhJdIfg8S"
      },
      "execution_count": null,
      "outputs": []
    },
    {
      "cell_type": "code",
      "source": [
        "x3_train = x1_train\n",
        "x3_test = x1_test"
      ],
      "metadata": {
        "id": "nguXtYfAUmBF"
      },
      "execution_count": null,
      "outputs": []
    },
    {
      "cell_type": "code",
      "source": [
        "pca = PCA(n_components = 57)\n",
        "x2_train = pca.fit_transform(x3_train)\n",
        "x2_test = pca.fit_transform(x3_test)"
      ],
      "metadata": {
        "id": "tEmp4isZWUWu"
      },
      "execution_count": null,
      "outputs": []
    },
    {
      "cell_type": "code",
      "source": [
        "table = []\n",
        "l0 = ['Model', 'Simple model', 'With PCA', 'With LDA']\n",
        "table.append(l0)"
      ],
      "metadata": {
        "id": "D3nUe91ZPxHi"
      },
      "execution_count": 196,
      "outputs": []
    },
    {
      "cell_type": "markdown",
      "source": [
        "#**1.Lightgbm**"
      ],
      "metadata": {
        "id": "LrGDFiVWaYCO"
      }
    },
    {
      "cell_type": "code",
      "source": [
        "lgbm1 = lightgbm.LGBMClassifier()"
      ],
      "metadata": {
        "id": "RLVqC1rSaaSq"
      },
      "execution_count": null,
      "outputs": []
    },
    {
      "cell_type": "code",
      "source": [
        "lgbm1.fit(x_train, y_train)\n",
        "lg_y1 = lgbm1.predict(x_test)\n",
        "print(ac(y_test, lg_y1))"
      ],
      "metadata": {
        "colab": {
          "base_uri": "https://localhost:8080/"
        },
        "id": "J4nC6WzIaokf",
        "outputId": "23f68e17-17f2-47ff-ce3a-c657b3a084bf"
      },
      "execution_count": null,
      "outputs": [
        {
          "output_type": "stream",
          "name": "stdout",
          "text": [
            "0.8998998998998999\n"
          ]
        }
      ]
    },
    {
      "cell_type": "code",
      "source": [
        "print(confusion_matrix(y_test, lg_y1))"
      ],
      "metadata": {
        "id": "SHoeGygCeMiU",
        "colab": {
          "base_uri": "https://localhost:8080/"
        },
        "outputId": "4d71fd01-7b05-432d-d92f-fadc02f9d7db"
      },
      "execution_count": null,
      "outputs": [
        {
          "output_type": "stream",
          "name": "stdout",
          "text": [
            "[[183   1   6   0   2   2   3   0   3   1]\n",
            " [  0 182   0   0   0   1   0   0   0   2]\n",
            " [  7   0 169   1   2   8   0   2   2   1]\n",
            " [  4   0   1 166   5   1   3   6   1   6]\n",
            " [  1   1   1   5 179   2   3   4   6   3]\n",
            " [  2   5   6   0   0 195   0   0   0   1]\n",
            " [  1   1   1   1   2   1 183   0   0   7]\n",
            " [  0   0   7   2   6   0   0 180   6   2]\n",
            " [  2   0   5   3   3   3   0   4 185   0]\n",
            " [  6   2   3   6   0   2   9   0   4 176]]\n"
          ]
        }
      ]
    },
    {
      "cell_type": "code",
      "source": [
        "print(classification_report(y_test, lg_y1))"
      ],
      "metadata": {
        "id": "lcSpRfHoeXPs",
        "colab": {
          "base_uri": "https://localhost:8080/"
        },
        "outputId": "e8448bbc-76e1-4043-cda5-19bb237812bc"
      },
      "execution_count": 169,
      "outputs": [
        {
          "output_type": "stream",
          "name": "stdout",
          "text": [
            "              precision    recall  f1-score   support\n",
            "\n",
            "           0       0.89      0.91      0.90       201\n",
            "           1       0.95      0.98      0.97       185\n",
            "           2       0.85      0.88      0.86       192\n",
            "           3       0.90      0.86      0.88       193\n",
            "           4       0.90      0.87      0.89       205\n",
            "           5       0.91      0.93      0.92       209\n",
            "           6       0.91      0.93      0.92       197\n",
            "           7       0.92      0.89      0.90       203\n",
            "           8       0.89      0.90      0.90       205\n",
            "           9       0.88      0.85      0.86       208\n",
            "\n",
            "    accuracy                           0.90      1998\n",
            "   macro avg       0.90      0.90      0.90      1998\n",
            "weighted avg       0.90      0.90      0.90      1998\n",
            "\n"
          ]
        }
      ]
    },
    {
      "cell_type": "markdown",
      "source": [
        "LDA"
      ],
      "metadata": {
        "id": "R9bMDAMDqxQ5"
      }
    },
    {
      "cell_type": "code",
      "source": [
        "from sklearn.discriminant_analysis import LinearDiscriminantAnalysis as LDA\n",
        "lda = LDA(n_components = 2)\n",
        "lda.fit(x_train,y_train)\n",
        "x_train2= lda.transform(x_train)\n",
        "x_test2= lda.transform(x_test)"
      ],
      "metadata": {
        "id": "6vEE2DkMqzow"
      },
      "execution_count": null,
      "outputs": []
    },
    {
      "cell_type": "code",
      "source": [
        "model1 = lightgbm.LGBMClassifier()\n",
        "model1.fit(x_train2, y_train)\n",
        "y_pred1 = model1.predict(x_test2)"
      ],
      "metadata": {
        "id": "qcGqaK-Qq9jp"
      },
      "execution_count": null,
      "outputs": []
    },
    {
      "cell_type": "code",
      "source": [
        "accu1=ac(y_test,y_pred1)\n",
        "print(accu1)"
      ],
      "metadata": {
        "id": "HX_-2V_lq_ts",
        "colab": {
          "base_uri": "https://localhost:8080/"
        },
        "outputId": "2cbfccde-3a92-4318-f1cc-20ad69d0ba68"
      },
      "execution_count": null,
      "outputs": [
        {
          "output_type": "stream",
          "name": "stdout",
          "text": [
            "0.4469469469469469\n"
          ]
        }
      ]
    },
    {
      "cell_type": "markdown",
      "source": [
        "**ROC**"
      ],
      "metadata": {
        "id": "tpc6YGhFtJoc"
      }
    },
    {
      "cell_type": "code",
      "source": [
        "w1 = lgbm1.predict_proba(x_test)\n",
        "y_bin = label_binarize(y_test, classes = np.unique(y_test))\n",
        "fpr = {}\n",
        "tpr = {}\n",
        "thresh = {}\n",
        "roc_auc = dict()\n",
        "\n",
        "label = np.unique(y_test)\n",
        "n_classes = label.shape[0]\n",
        "for i in range(n_classes):\n",
        "  fpr[i], tpr[i], thresh[i] = roc_curve(y_bin[:, i], w1[:, i])\n",
        "  roc_auc[i] = auc(fpr[i], tpr[i])\n",
        "  plt.plot(fpr[i], tpr[i], linestyle = '--', label = '%s vs rest (AUC = %0.2f)' % (label[i], roc_auc[i]))\n",
        "\n",
        "plt.plot([0, 1], [0, 1], 'b--')\n",
        "plt.xlim([0, 1])\n",
        "plt.ylim([0, 1.05])\n",
        "plt.ylabel('True Positive Rate')\n",
        "plt.xlabel('False Positive Rate')"
      ],
      "metadata": {
        "colab": {
          "base_uri": "https://localhost:8080/",
          "height": 296
        },
        "id": "JxkMBM5as7LV",
        "outputId": "e74cc26a-c8c2-45fb-928d-d73c916f58f5"
      },
      "execution_count": null,
      "outputs": [
        {
          "output_type": "execute_result",
          "data": {
            "text/plain": [
              "Text(0.5, 0, 'False Positive Rate')"
            ]
          },
          "metadata": {},
          "execution_count": 85
        },
        {
          "output_type": "display_data",
          "data": {
            "text/plain": [
              "<Figure size 432x288 with 1 Axes>"
            ],
            "image/png": "[encoded data removed]"
          },
          "metadata": {
            "needs_background": "light"
          }
        }
      ]
    },
    {
      "cell_type": "markdown",
      "source": [
        "PCA"
      ],
      "metadata": {
        "id": "cHn6ueoy9sfV"
      }
    },
    {
      "cell_type": "code",
      "source": [
        "P1 = lightgbm.LGBMClassifier()\n",
        "P1.fit(x2_train, y_train)"
      ],
      "metadata": {
        "colab": {
          "base_uri": "https://localhost:8080/"
        },
        "outputId": "7384ba4a-33dd-46f6-c672-cfaf3482b5dd",
        "id": "MxLOxhg79uLo"
      },
      "execution_count": 170,
      "outputs": [
        {
          "output_type": "execute_result",
          "data": {
            "text/plain": [
              "LGBMClassifier()"
            ]
          },
          "metadata": {},
          "execution_count": 170
        }
      ]
    },
    {
      "cell_type": "code",
      "source": [
        "Q1 = P1.predict(x2_test)"
      ],
      "metadata": {
        "id": "wKPrlt759uLo"
      },
      "execution_count": 171,
      "outputs": []
    },
    {
      "cell_type": "code",
      "source": [
        "print(ac(y_test, Q1))"
      ],
      "metadata": {
        "colab": {
          "base_uri": "https://localhost:8080/"
        },
        "outputId": "01261127-359b-45cc-a2c3-464c2c58f287",
        "id": "kdQgRLZj9uLo"
      },
      "execution_count": 172,
      "outputs": [
        {
          "output_type": "stream",
          "name": "stdout",
          "text": [
            "0.42842842842842843\n"
          ]
        }
      ]
    },
    {
      "cell_type": "code",
      "source": [
        "l1 = ['Lightgbm Classfier', ac(y_test, lg_y1),ac(y_test, Q1), ac(y_test,y_pred1)]\n",
        "table.append(l1)"
      ],
      "metadata": {
        "id": "yMgGktgxQNjt"
      },
      "execution_count": 197,
      "outputs": []
    },
    {
      "cell_type": "markdown",
      "source": [
        "#**2.XGBClassiifier**"
      ],
      "metadata": {
        "id": "kuS5JcmTTHij"
      }
    },
    {
      "cell_type": "code",
      "source": [
        "xgb1 = xgboost.XGBClassifier()\n",
        "xgb1.fit(x_train, y_train)\n",
        "xg_y1 = xgb1.predict(x_test)"
      ],
      "metadata": {
        "id": "Lzo9UOboTK7r"
      },
      "execution_count": null,
      "outputs": []
    },
    {
      "cell_type": "code",
      "source": [
        "ac1 = ac(y_test, xg_y1)"
      ],
      "metadata": {
        "id": "PdnmeFyhT2U_"
      },
      "execution_count": null,
      "outputs": []
    },
    {
      "cell_type": "code",
      "source": [
        "print(ac1)"
      ],
      "metadata": {
        "colab": {
          "base_uri": "https://localhost:8080/"
        },
        "id": "AW0sRQ9wUMUH",
        "outputId": "cd2a299c-fd8e-4b59-9413-8ab7b81e6d8c"
      },
      "execution_count": null,
      "outputs": [
        {
          "output_type": "stream",
          "name": "stdout",
          "text": [
            "0.8033033033033034\n"
          ]
        }
      ]
    },
    {
      "cell_type": "code",
      "source": [
        "print(confusion_matrix(y_test, xg_y1))"
      ],
      "metadata": {
        "colab": {
          "base_uri": "https://localhost:8080/"
        },
        "id": "GsjqkS4yPKhb",
        "outputId": "4cb75fe0-dcc9-452e-86e5-68cf42169d1a"
      },
      "execution_count": null,
      "outputs": [
        {
          "output_type": "stream",
          "name": "stdout",
          "text": [
            "[[161   1  12   1   4   6  10   0   4   2]\n",
            " [  0 177   0   0   0   6   0   0   0   2]\n",
            " [ 10   1 146   4   2  13   1   5   4   6]\n",
            " [  3   0   4 146  12   2   4  10   5   7]\n",
            " [  5   1   2   5 156   2   6  11  15   2]\n",
            " [  6   8  13   0   0 181   0   0   1   0]\n",
            " [  1   1   2   2   3   1 178   0   1   8]\n",
            " [  0   0  15  10   7   3   0 157   5   6]\n",
            " [  6   0   9   6   8   3   1   9 159   4]\n",
            " [ 10   2   7  15   1   7  13   1   8 144]]\n"
          ]
        }
      ]
    },
    {
      "cell_type": "code",
      "source": [
        "print(classification_report(y_test, xg_y1))"
      ],
      "metadata": {
        "colab": {
          "base_uri": "https://localhost:8080/"
        },
        "id": "EB7O8TildNfD",
        "outputId": "4bd7cb96-44c2-4458-fbcd-4f0f72636b2a"
      },
      "execution_count": null,
      "outputs": [
        {
          "output_type": "stream",
          "name": "stdout",
          "text": [
            "              precision    recall  f1-score   support\n",
            "\n",
            "           0       0.80      0.80      0.80       201\n",
            "           1       0.93      0.96      0.94       185\n",
            "           2       0.70      0.76      0.73       192\n",
            "           3       0.77      0.76      0.76       193\n",
            "           4       0.81      0.76      0.78       205\n",
            "           5       0.81      0.87      0.84       209\n",
            "           6       0.84      0.90      0.87       197\n",
            "           7       0.81      0.77      0.79       203\n",
            "           8       0.79      0.78      0.78       205\n",
            "           9       0.80      0.69      0.74       208\n",
            "\n",
            "    accuracy                           0.80      1998\n",
            "   macro avg       0.80      0.80      0.80      1998\n",
            "weighted avg       0.80      0.80      0.80      1998\n",
            "\n"
          ]
        }
      ]
    },
    {
      "cell_type": "markdown",
      "source": [
        "**ROC**"
      ],
      "metadata": {
        "id": "DI3FY1bptIJw"
      }
    },
    {
      "cell_type": "code",
      "source": [
        "w2 = xgb1.predict_proba(x_test)\n",
        "y_bin = label_binarize(y_test, classes = np.unique(y_test))\n",
        "fpr = {}\n",
        "tpr = {}\n",
        "thresh = {}\n",
        "roc_auc = dict()\n",
        "\n",
        "label = np.unique(y_test)\n",
        "n_classes = label.shape[0]\n",
        "for i in range(n_classes):\n",
        "  fpr[i], tpr[i], thresh[i] = roc_curve(y_bin[:, i], w2[:, i])\n",
        "  roc_auc[i] = auc(fpr[i], tpr[i])\n",
        "  plt.plot(fpr[i], tpr[i], linestyle = '--', label = '%s vs rest (AUC = %0.2f)' % (label[i], roc_auc[i]))\n",
        "\n",
        "plt.plot([0, 1], [0, 1], 'b--')\n",
        "plt.xlim([0, 1])\n",
        "plt.ylim([0, 1.05])\n",
        "plt.ylabel('True Positive Rate')\n",
        "plt.xlabel('False Positive Rate')"
      ],
      "metadata": {
        "colab": {
          "base_uri": "https://localhost:8080/",
          "height": 296
        },
        "id": "CqurJHgStHmV",
        "outputId": "24fefc9c-0ad3-4418-e3d1-2770199f3702"
      },
      "execution_count": null,
      "outputs": [
        {
          "output_type": "execute_result",
          "data": {
            "text/plain": [
              "Text(0.5, 0, 'False Positive Rate')"
            ]
          },
          "metadata": {},
          "execution_count": 86
        },
        {
          "output_type": "display_data",
          "data": {
            "text/plain": [
              "<Figure size 432x288 with 1 Axes>"
            ],
            "image/png": "[encoded data removed]"
          },
          "metadata": {
            "needs_background": "light"
          }
        }
      ]
    },
    {
      "cell_type": "markdown",
      "source": [
        "LDA"
      ],
      "metadata": {
        "id": "AIJ3CWym4kue"
      }
    },
    {
      "cell_type": "code",
      "source": [
        "from sklearn.discriminant_analysis import LinearDiscriminantAnalysis as LDA\n",
        "lda = LDA(n_components = 2)\n",
        "lda.fit(x_train,y_train)\n",
        "x_train3= lda.transform(x_train)\n",
        "x_test3= lda.transform(x_test)"
      ],
      "metadata": {
        "id": "Nlra0j9o4mX9"
      },
      "execution_count": null,
      "outputs": []
    },
    {
      "cell_type": "code",
      "source": [
        "model2 = xgboost.XGBClassifier()\n",
        "model2.fit(x_train3, y_train)\n",
        "y_pred2 = model1.predict(x_test3)"
      ],
      "metadata": {
        "id": "10I0Y7526DuA"
      },
      "execution_count": null,
      "outputs": []
    },
    {
      "cell_type": "code",
      "source": [
        "accu2=ac(y_test,y_pred2)\n",
        "print(accu2)"
      ],
      "metadata": {
        "colab": {
          "base_uri": "https://localhost:8080/"
        },
        "id": "uYrrp5rB6Lh0",
        "outputId": "3e2d76d3-f782-4fc1-ea67-a7a346e1c6d5"
      },
      "execution_count": null,
      "outputs": [
        {
          "output_type": "stream",
          "name": "stdout",
          "text": [
            "0.4469469469469469\n"
          ]
        }
      ]
    },
    {
      "cell_type": "markdown",
      "source": [
        " PCA"
      ],
      "metadata": {
        "id": "lEAE9pncWPSe"
      }
    },
    {
      "cell_type": "code",
      "source": [
        "P2 = xgboost.XGBClassifier()\n",
        "P2.fit(x2_train, y_train)"
      ],
      "metadata": {
        "colab": {
          "base_uri": "https://localhost:8080/"
        },
        "id": "IpaItVDVacG1",
        "outputId": "381fd7eb-be21-4304-e4c0-fc60e37b4601"
      },
      "execution_count": 173,
      "outputs": [
        {
          "output_type": "execute_result",
          "data": {
            "text/plain": [
              "XGBClassifier(objective='multi:softprob')"
            ]
          },
          "metadata": {},
          "execution_count": 173
        }
      ]
    },
    {
      "cell_type": "code",
      "source": [
        "Q2 = P2.predict(x2_test)"
      ],
      "metadata": {
        "id": "wF0wZzAUbA2c"
      },
      "execution_count": 174,
      "outputs": []
    },
    {
      "cell_type": "code",
      "source": [
        "print(ac(y_test, Q2))"
      ],
      "metadata": {
        "colab": {
          "base_uri": "https://localhost:8080/"
        },
        "id": "tFkjzLsibJDz",
        "outputId": "70899685-fd87-4025-8a16-ff44c70d5e06"
      },
      "execution_count": 175,
      "outputs": [
        {
          "output_type": "stream",
          "name": "stdout",
          "text": [
            "0.43243243243243246\n"
          ]
        }
      ]
    },
    {
      "cell_type": "code",
      "source": [
        "l2 = ['Xgboost Classifier', ac(y_test, xg_y1), ac(y_test, Q2), ac(y_test,y_pred2)]\n",
        "table.append(l2)"
      ],
      "metadata": {
        "id": "ex3lksAWQn4v"
      },
      "execution_count": 198,
      "outputs": []
    },
    {
      "cell_type": "markdown",
      "source": [
        "#**3.KNN Classificatiion**"
      ],
      "metadata": {
        "id": "Pw6nxf7XXWJe"
      }
    },
    {
      "cell_type": "code",
      "source": [
        "n = []\n",
        "accuracy = []\n",
        "for i in range(1, 13):\n",
        "  m2 = KNeighborsClassifier(n_neighbors = i)\n",
        "  cv = KFold(n_splits=5, random_state=1, shuffle=True)\n",
        "  scores = cross_val_score(m2, x1_train, y_train, scoring='accuracy', cv = cv, n_jobs= -1)\n",
        "  n.append(i)\n",
        "  accuracy.append(statistics.mean(abs(scores)))"
      ],
      "metadata": {
        "id": "rpkUUUD3XZ8C"
      },
      "execution_count": null,
      "outputs": []
    },
    {
      "cell_type": "code",
      "source": [
        "plt.plot(n, accuracy)\n",
        "plt.xlabel('n_neighbors')\n",
        "plt.ylabel('CV Accuracy')\n",
        "plt.show()"
      ],
      "metadata": {
        "colab": {
          "base_uri": "https://localhost:8080/",
          "height": 280
        },
        "id": "xyNMBc0IdHyI",
        "outputId": "86fe7402-f082-4ebd-84d5-eedaea45a461"
      },
      "execution_count": null,
      "outputs": [
        {
          "output_type": "display_data",
          "data": {
            "text/plain": [
              "<Figure size 432x288 with 1 Axes>"
            ],
            "image/png": "[encoded data removed]"
          },
          "metadata": {
            "needs_background": "light"
          }
        }
      ]
    },
    {
      "cell_type": "code",
      "source": [
        "error_rate = []\n",
        "n = []\n",
        "for i in range(1, 13):\n",
        "  m2 = KNeighborsClassifier(n_neighbors = i)\n",
        "  m2.fit(x1_train, y_train)\n",
        "  pred_i = m2.predict(x1_test)\n",
        "  error_rate.append(np.mean(pred_i != y_test))\n",
        "  n.append(i)"
      ],
      "metadata": {
        "id": "6tQmS55re7WS"
      },
      "execution_count": null,
      "outputs": []
    },
    {
      "cell_type": "code",
      "source": [
        "plt.plot(n, error_rate)\n",
        "plt.xlabel('n_neighbors')\n",
        "plt.ylabel('error_rate')\n",
        "plt.show()"
      ],
      "metadata": {
        "colab": {
          "base_uri": "https://localhost:8080/",
          "height": 280
        },
        "id": "PG4ONSETfSK-",
        "outputId": "9b8cba8b-330d-4124-92b8-1cfe480956a9"
      },
      "execution_count": null,
      "outputs": [
        {
          "output_type": "display_data",
          "data": {
            "text/plain": [
              "<Figure size 432x288 with 1 Axes>"
            ],
            "image/png": "[encoded data removed]"
          },
          "metadata": {
            "needs_background": "light"
          }
        }
      ]
    },
    {
      "cell_type": "code",
      "source": [
        "knn1 = KNeighborsClassifier(n_neighbors = 3)\n",
        "knn1.fit(x1_train, y_train)\n",
        "knn_y1 = knn1.predict(x1_test)"
      ],
      "metadata": {
        "id": "O6pPb-7FgDXx"
      },
      "execution_count": null,
      "outputs": []
    },
    {
      "cell_type": "code",
      "source": [
        "print(ac(y_test, knn_y1))"
      ],
      "metadata": {
        "colab": {
          "base_uri": "https://localhost:8080/"
        },
        "id": "OiqPdAd1gkkp",
        "outputId": "2608a5c1-652e-4ca0-e688-88da49dc277f"
      },
      "execution_count": null,
      "outputs": [
        {
          "output_type": "stream",
          "name": "stdout",
          "text": [
            "0.8968968968968969\n"
          ]
        }
      ]
    },
    {
      "cell_type": "code",
      "source": [
        "print(confusion_matrix(y_test, knn_y1))"
      ],
      "metadata": {
        "colab": {
          "base_uri": "https://localhost:8080/"
        },
        "id": "04SWh6e64Phl",
        "outputId": "194df1fb-2261-4324-be34-4a6aeb9a1fd2"
      },
      "execution_count": null,
      "outputs": [
        {
          "output_type": "stream",
          "name": "stdout",
          "text": [
            "[[196   1   2   0   0   0   0   0   2   0]\n",
            " [  0 174   1   0   0  10   0   0   0   0]\n",
            " [  7   2 168   4   0   1   0   1   7   2]\n",
            " [  2   1   6 175   3   0   1   1   0   4]\n",
            " [  0   2   6   5 179   2   1   5   5   0]\n",
            " [  6  10  12   1   0 178   0   2   0   0]\n",
            " [  0   0   0   2   2   1 188   0   0   4]\n",
            " [  1   1   5   8   5   5   0 172   4   2]\n",
            " [  2   1   3   3   0   1   0   2 193   0]\n",
            " [  4   2  10  10   2   3   3   2   3 169]]\n"
          ]
        }
      ]
    },
    {
      "cell_type": "code",
      "source": [
        "print(classification_report(y_test, knn_y1))"
      ],
      "metadata": {
        "colab": {
          "base_uri": "https://localhost:8080/"
        },
        "id": "m-VSyuq_fBiN",
        "outputId": "fce3371c-8546-4bdc-c263-81ad511cf73f"
      },
      "execution_count": null,
      "outputs": [
        {
          "output_type": "stream",
          "name": "stdout",
          "text": [
            "              precision    recall  f1-score   support\n",
            "\n",
            "           0       0.90      0.98      0.94       201\n",
            "           1       0.90      0.94      0.92       185\n",
            "           2       0.79      0.88      0.83       192\n",
            "           3       0.84      0.91      0.87       193\n",
            "           4       0.94      0.87      0.90       205\n",
            "           5       0.89      0.85      0.87       209\n",
            "           6       0.97      0.95      0.96       197\n",
            "           7       0.93      0.85      0.89       203\n",
            "           8       0.90      0.94      0.92       205\n",
            "           9       0.93      0.81      0.87       208\n",
            "\n",
            "    accuracy                           0.90      1998\n",
            "   macro avg       0.90      0.90      0.90      1998\n",
            "weighted avg       0.90      0.90      0.90      1998\n",
            "\n"
          ]
        }
      ]
    },
    {
      "cell_type": "markdown",
      "source": [
        "**ROC**"
      ],
      "metadata": {
        "id": "l2-UwymstmP5"
      }
    },
    {
      "cell_type": "code",
      "source": [
        "w3 = knn1.predict_proba(x_test)\n",
        "y_bin = label_binarize(y_test, classes = np.unique(y_test))\n",
        "fpr = {}\n",
        "tpr = {}\n",
        "thresh = {}\n",
        "roc_auc = dict()\n",
        "\n",
        "label = np.unique(y_test)\n",
        "n_classes = label.shape[0]\n",
        "for i in range(n_classes):\n",
        "  fpr[i], tpr[i], thresh[i] = roc_curve(y_bin[:, i], w3[:, i])\n",
        "  roc_auc[i] = auc(fpr[i], tpr[i])\n",
        "  plt.plot(fpr[i], tpr[i], linestyle = '--', label = '%s vs rest (AUC = %0.2f)' % (label[i], roc_auc[i]))\n",
        "\n",
        "plt.plot([0, 1], [0, 1], 'b--')\n",
        "plt.xlim([0, 1])\n",
        "plt.ylim([0, 1.05])\n",
        "plt.ylabel('True Positive Rate')\n",
        "plt.xlabel('False Positive Rate')"
      ],
      "metadata": {
        "colab": {
          "base_uri": "https://localhost:8080/",
          "height": 296
        },
        "id": "V1sRJ4getn4b",
        "outputId": "a20dea8e-6185-4634-a96c-a6dc57aaf841"
      },
      "execution_count": null,
      "outputs": [
        {
          "output_type": "execute_result",
          "data": {
            "text/plain": [
              "Text(0.5, 0, 'False Positive Rate')"
            ]
          },
          "metadata": {},
          "execution_count": 89
        },
        {
          "output_type": "display_data",
          "data": {
            "text/plain": [
              "<Figure size 432x288 with 1 Axes>"
            ],
            "image/png": "[encoded data removed]"
          },
          "metadata": {
            "needs_background": "light"
          }
        }
      ]
    },
    {
      "cell_type": "markdown",
      "source": [
        "LDA"
      ],
      "metadata": {
        "id": "2u_kmw3A5Q7N"
      }
    },
    {
      "cell_type": "code",
      "source": [
        "from sklearn.discriminant_analysis import LinearDiscriminantAnalysis as LDA\n",
        "lda = LDA(n_components = 2)\n",
        "lda.fit(x_train,y_train)\n",
        "x_train4= lda.transform(x_train)\n",
        "x_test4= lda.transform(x_test)\n"
      ],
      "metadata": {
        "id": "f2hWWSK45R7s"
      },
      "execution_count": null,
      "outputs": []
    },
    {
      "cell_type": "code",
      "source": [
        "model3 = KNeighborsClassifier()\n",
        "model3.fit(x_train4, y_train)\n",
        "y_pred3 = model1.predict(x_test4)"
      ],
      "metadata": {
        "id": "Z9QJRQnh6F6G"
      },
      "execution_count": null,
      "outputs": []
    },
    {
      "cell_type": "code",
      "source": [
        "accu3=ac(y_test,y_pred3)\n",
        "print(accu3)"
      ],
      "metadata": {
        "colab": {
          "base_uri": "https://localhost:8080/"
        },
        "id": "Gkd99Sng6Naz",
        "outputId": "dd579b58-c811-4399-c65d-0c8fadc61fd1"
      },
      "execution_count": null,
      "outputs": [
        {
          "output_type": "stream",
          "name": "stdout",
          "text": [
            "0.4469469469469469\n"
          ]
        }
      ]
    },
    {
      "cell_type": "markdown",
      "source": [
        "PCA"
      ],
      "metadata": {
        "id": "iPUh1azH91qW"
      }
    },
    {
      "cell_type": "code",
      "source": [
        "P3 = KNeighborsClassifier()\n",
        "P3.fit(x2_train, y_train)"
      ],
      "metadata": {
        "colab": {
          "base_uri": "https://localhost:8080/"
        },
        "outputId": "904cacc8-f931-49dd-f8a0-e9a5efcce5fc",
        "id": "3Q_pjg0Z97ru"
      },
      "execution_count": 176,
      "outputs": [
        {
          "output_type": "execute_result",
          "data": {
            "text/plain": [
              "KNeighborsClassifier()"
            ]
          },
          "metadata": {},
          "execution_count": 176
        }
      ]
    },
    {
      "cell_type": "code",
      "source": [
        "Q3 = P3.predict(x2_test)"
      ],
      "metadata": {
        "id": "XakVmQ3p97rv"
      },
      "execution_count": 177,
      "outputs": []
    },
    {
      "cell_type": "code",
      "source": [
        "print(ac(y_test, Q3))"
      ],
      "metadata": {
        "colab": {
          "base_uri": "https://localhost:8080/"
        },
        "outputId": "5e8aee1f-46b2-4b93-d7f4-548b5c2eccf9",
        "id": "mSb9woLa97rw"
      },
      "execution_count": 178,
      "outputs": [
        {
          "output_type": "stream",
          "name": "stdout",
          "text": [
            "0.3838838838838839\n"
          ]
        }
      ]
    },
    {
      "cell_type": "code",
      "source": [
        "l3 = ['KNN Classifier', ac(y_test, knn_y1), ac(y_test, Q3), ac(y_test,y_pred3)]\n",
        "table.append(l3)"
      ],
      "metadata": {
        "id": "HmOfiTCtRU_9"
      },
      "execution_count": 199,
      "outputs": []
    },
    {
      "cell_type": "markdown",
      "source": [
        "#**4.Random Forest Classifier**"
      ],
      "metadata": {
        "id": "nydGVRQfCA6a"
      }
    },
    {
      "cell_type": "code",
      "source": [
        "rfc1 = rfc()\n",
        "rfc1.fit(x_train, y_train)\n",
        "rfc_y1 = rfc1.predict(x_test)"
      ],
      "metadata": {
        "id": "Ruv5vNjeCEuF"
      },
      "execution_count": null,
      "outputs": []
    },
    {
      "cell_type": "code",
      "source": [
        "print(ac(y_test, rfc_y1))"
      ],
      "metadata": {
        "colab": {
          "base_uri": "https://localhost:8080/"
        },
        "id": "i83KL5y2CTLx",
        "outputId": "2b72d0af-1025-4eea-a622-7101010a0679"
      },
      "execution_count": null,
      "outputs": [
        {
          "output_type": "stream",
          "name": "stdout",
          "text": [
            "0.8623623623623624\n"
          ]
        }
      ]
    },
    {
      "cell_type": "code",
      "source": [
        "print(confusion_matrix(y_test, rfc_y1))"
      ],
      "metadata": {
        "colab": {
          "base_uri": "https://localhost:8080/"
        },
        "id": "ybCkAlUBPXwy",
        "outputId": "095653ba-e0e3-4abd-bbf0-d9e1690e8aa5"
      },
      "execution_count": null,
      "outputs": [
        {
          "output_type": "stream",
          "name": "stdout",
          "text": [
            "[[178   1   4   2   0   3   9   0   4   0]\n",
            " [  0 180   3   0   0   1   0   0   1   0]\n",
            " [  7   3 158   4   0   8   2   5   4   1]\n",
            " [  1   1   3 163   8   0   3   5   3   6]\n",
            " [  2   1   1   6 173   1   2  11   4   4]\n",
            " [  5   7   6   1   0 189   0   0   1   0]\n",
            " [  1   1   0   0   3   0 187   0   1   4]\n",
            " [  0   0   8   8   6   2   0 172   4   3]\n",
            " [  2   0   8   2   8   4   0   7 171   3]\n",
            " [  4   0  15   8   0   5  16   0   8 152]]\n"
          ]
        }
      ]
    },
    {
      "cell_type": "code",
      "source": [
        "print(classification_report(y_test, rfc_y1))"
      ],
      "metadata": {
        "colab": {
          "base_uri": "https://localhost:8080/"
        },
        "id": "QuS6ur8RfF4Z",
        "outputId": "9ca0ab98-c987-47cc-f9bf-01c522f32ef8"
      },
      "execution_count": null,
      "outputs": [
        {
          "output_type": "stream",
          "name": "stdout",
          "text": [
            "              precision    recall  f1-score   support\n",
            "\n",
            "           0       0.89      0.89      0.89       201\n",
            "           1       0.93      0.97      0.95       185\n",
            "           2       0.77      0.82      0.79       192\n",
            "           3       0.84      0.84      0.84       193\n",
            "           4       0.87      0.84      0.86       205\n",
            "           5       0.89      0.90      0.90       209\n",
            "           6       0.85      0.95      0.90       197\n",
            "           7       0.86      0.85      0.85       203\n",
            "           8       0.85      0.83      0.84       205\n",
            "           9       0.88      0.73      0.80       208\n",
            "\n",
            "    accuracy                           0.86      1998\n",
            "   macro avg       0.86      0.86      0.86      1998\n",
            "weighted avg       0.86      0.86      0.86      1998\n",
            "\n"
          ]
        }
      ]
    },
    {
      "cell_type": "code",
      "source": [
        "w4 = rfc1.predict_proba(x_test)\n",
        "y_bin = label_binarize(y_test, classes = np.unique(y_test))\n",
        "fpr = {}\n",
        "tpr = {}\n",
        "thresh = {}\n",
        "roc_auc = dict()\n",
        "\n",
        "label = np.unique(y_test)\n",
        "n_classes = label.shape[0]\n",
        "for i in range(n_classes):\n",
        "  fpr[i], tpr[i], thresh[i] = roc_curve(y_bin[:, i], w4[:, i])\n",
        "  roc_auc[i] = auc(fpr[i], tpr[i])\n",
        "  plt.plot(fpr[i], tpr[i], linestyle = '--', label = '%s vs rest (AUC = %0.2f)' % (label[i], roc_auc[i]))\n",
        "\n",
        "plt.plot([0, 1], [0, 1], 'b--')\n",
        "plt.xlim([0, 1])\n",
        "plt.ylim([0, 1.05])\n",
        "plt.ylabel('True Positive Rate')\n",
        "plt.xlabel('False Positive Rate')"
      ],
      "metadata": {
        "colab": {
          "base_uri": "https://localhost:8080/",
          "height": 296
        },
        "id": "L3G7VRFAt0kE",
        "outputId": "c494c92d-7d7e-4e92-f4b9-fb87b64377c1"
      },
      "execution_count": null,
      "outputs": [
        {
          "output_type": "execute_result",
          "data": {
            "text/plain": [
              "Text(0.5, 0, 'False Positive Rate')"
            ]
          },
          "metadata": {},
          "execution_count": 88
        },
        {
          "output_type": "display_data",
          "data": {
            "text/plain": [
              "<Figure size 432x288 with 1 Axes>"
            ],
            "image/png": "[encoded data removed]"
          },
          "metadata": {
            "needs_background": "light"
          }
        }
      ]
    },
    {
      "cell_type": "markdown",
      "source": [
        "LDA"
      ],
      "metadata": {
        "id": "lIyOYeRp5bWE"
      }
    },
    {
      "cell_type": "code",
      "source": [
        "from sklearn.discriminant_analysis import LinearDiscriminantAnalysis as LDA\n",
        "lda = LDA(n_components = 2)\n",
        "lda.fit(x_train,y_train)\n",
        "x_train5= lda.transform(x_train)\n",
        "x_test5= lda.transform(x_test)"
      ],
      "metadata": {
        "id": "OS05J6FN5cE3"
      },
      "execution_count": 184,
      "outputs": []
    },
    {
      "cell_type": "code",
      "source": [
        "model4 = rfc()\n",
        "model4.fit(x_train5, y_train)\n",
        "y_pred4 = model4.predict(x_test5)\n",
        "accu4=ac(y_test,y_pred4)\n",
        "print(accu4)"
      ],
      "metadata": {
        "colab": {
          "base_uri": "https://localhost:8080/"
        },
        "id": "kY4IsNbV6HLd",
        "outputId": "8368df4e-a350-4b7b-93d5-11ecfe360a82"
      },
      "execution_count": 185,
      "outputs": [
        {
          "output_type": "stream",
          "name": "stdout",
          "text": [
            "0.4319319319319319\n"
          ]
        }
      ]
    },
    {
      "cell_type": "markdown",
      "source": [
        "PCA"
      ],
      "metadata": {
        "id": "zMGZy5ac9-RK"
      }
    },
    {
      "cell_type": "code",
      "source": [
        "P4 = rfc()\n",
        "P4.fit(x2_train, y_train)"
      ],
      "metadata": {
        "colab": {
          "base_uri": "https://localhost:8080/"
        },
        "outputId": "2876208c-91eb-4653-cc62-99e68e069ee2",
        "id": "OWNsFtHk9_rT"
      },
      "execution_count": 179,
      "outputs": [
        {
          "output_type": "execute_result",
          "data": {
            "text/plain": [
              "RandomForestClassifier()"
            ]
          },
          "metadata": {},
          "execution_count": 179
        }
      ]
    },
    {
      "cell_type": "code",
      "source": [
        "Q4 = P4.predict(x2_test)"
      ],
      "metadata": {
        "id": "dS4kx5Hs9_rV"
      },
      "execution_count": 180,
      "outputs": []
    },
    {
      "cell_type": "code",
      "source": [
        "print(ac(y_test, Q4))"
      ],
      "metadata": {
        "colab": {
          "base_uri": "https://localhost:8080/"
        },
        "outputId": "f2f9f3d6-10f2-461d-f388-d754ad5e6de5",
        "id": "M6WVlsTu9_rV"
      },
      "execution_count": 181,
      "outputs": [
        {
          "output_type": "stream",
          "name": "stdout",
          "text": [
            "0.42292292292292294\n"
          ]
        }
      ]
    },
    {
      "cell_type": "code",
      "source": [
        "l4 = ['Random Forest Classifier', ac(y_test, rfc_y1), ac(y_test, Q4), ac(y_test,y_pred4)]\n",
        "table.append(l4)"
      ],
      "metadata": {
        "id": "blYz0cTbRqa8"
      },
      "execution_count": 200,
      "outputs": []
    },
    {
      "cell_type": "markdown",
      "source": [
        "#**5.Decision Tree**"
      ],
      "metadata": {
        "id": "yKYkLegXCxuk"
      }
    },
    {
      "cell_type": "code",
      "source": [
        "dtc1 = dtc()\n",
        "dtc1.fit(x_train, y_train)\n",
        "dtc_y1 = dtc1.predict(x_test)"
      ],
      "metadata": {
        "id": "sP51uqxVuRIH"
      },
      "execution_count": null,
      "outputs": []
    },
    {
      "cell_type": "code",
      "source": [
        "print(ac(y_test, dtc_y1))"
      ],
      "metadata": {
        "colab": {
          "base_uri": "https://localhost:8080/"
        },
        "id": "PWhhYryhuwa0",
        "outputId": "fb688d58-24be-415d-dbdf-c3d3b67c5266"
      },
      "execution_count": null,
      "outputs": [
        {
          "output_type": "stream",
          "name": "stdout",
          "text": [
            "0.6751751751751752\n"
          ]
        }
      ]
    },
    {
      "cell_type": "code",
      "source": [
        "print(confusion_matrix(y_test, dtc_y1))"
      ],
      "metadata": {
        "colab": {
          "base_uri": "https://localhost:8080/"
        },
        "id": "yYvS9liPukUd",
        "outputId": "b66136ff-5f85-49c0-d888-af62d4235f3e"
      },
      "execution_count": null,
      "outputs": [
        {
          "output_type": "stream",
          "name": "stdout",
          "text": [
            "[[134   2  26   8   4   6   8   1   6   6]\n",
            " [  1 167   4   1   0   6   0   1   3   2]\n",
            " [ 12   5 100  11   3  26   5   9   7  14]\n",
            " [ 11   1   5 124   8   3  12   6  10  13]\n",
            " [  5   0   6  14 128   2  10  15  16   9]\n",
            " [  8  13  16   3   3 147   0   8   4   7]\n",
            " [  5   0   3   4   8   4 156   1   4  12]\n",
            " [  0   1  11  16  11   2   0 144   8  10]\n",
            " [ 12   1   6   9  14   2   2  10 139  10]\n",
            " [ 15   3  16  19   8   5  21   4   7 110]]\n"
          ]
        }
      ]
    },
    {
      "cell_type": "code",
      "source": [
        "print(classification_report(y_test, dtc_y1))"
      ],
      "metadata": {
        "colab": {
          "base_uri": "https://localhost:8080/"
        },
        "id": "fQ5yMDvrva_Q",
        "outputId": "ece41545-d048-4658-987e-a1ca5bf539b9"
      },
      "execution_count": null,
      "outputs": [
        {
          "output_type": "stream",
          "name": "stdout",
          "text": [
            "              precision    recall  f1-score   support\n",
            "\n",
            "           0       0.66      0.67      0.66       201\n",
            "           1       0.87      0.90      0.88       185\n",
            "           2       0.52      0.52      0.52       192\n",
            "           3       0.59      0.64      0.62       193\n",
            "           4       0.68      0.62      0.65       205\n",
            "           5       0.72      0.70      0.71       209\n",
            "           6       0.73      0.79      0.76       197\n",
            "           7       0.72      0.71      0.72       203\n",
            "           8       0.68      0.68      0.68       205\n",
            "           9       0.57      0.53      0.55       208\n",
            "\n",
            "    accuracy                           0.68      1998\n",
            "   macro avg       0.67      0.68      0.68      1998\n",
            "weighted avg       0.67      0.68      0.67      1998\n",
            "\n"
          ]
        }
      ]
    },
    {
      "cell_type": "code",
      "source": [
        "depth_range = [5, 6, 7, 8, 9, 10, 11, 12, 13, 14, 15, 16, 17, 18, 19, 20]\n",
        "sample_len = [2, 3, 4, 5, 6, 7, 8, 9, 10, 11, 12, 13, 14, 15]\n",
        "para = {'max_depth' : depth_range, 'min_samples_leaf': sample_len}\n",
        "m1 =  dtc()\n",
        "gscv = GridSearchCV(m1, para, cv = 5)\n",
        "gscv.fit(x_train, y_train)\n",
        "gscv.best_params_"
      ],
      "metadata": {
        "colab": {
          "base_uri": "https://localhost:8080/"
        },
        "id": "Rewm6C-67-In",
        "outputId": "1466ed11-a5e0-4aa0-9546-883f84972dbe"
      },
      "execution_count": null,
      "outputs": [
        {
          "output_type": "execute_result",
          "data": {
            "text/plain": [
              "{'max_depth': 15, 'min_samples_leaf': 2}"
            ]
          },
          "metadata": {},
          "execution_count": 103
        }
      ]
    },
    {
      "cell_type": "code",
      "source": [
        "model2= dtc(max_depth= 15, min_samples_leaf= 2)\n",
        "model2.fit(x_train, y_train)\n",
        "y_pred2 = model2.predict(x_test)\n",
        "accu2=ac(y_test,y_pred2)\n",
        "print(accu2)"
      ],
      "metadata": {
        "colab": {
          "base_uri": "https://localhost:8080/"
        },
        "id": "uIMvZP2_-WIU",
        "outputId": "1461ca0a-ee80-41b9-f05f-aaa51055acb4"
      },
      "execution_count": null,
      "outputs": [
        {
          "output_type": "stream",
          "name": "stdout",
          "text": [
            "0.6676676676676677\n"
          ]
        }
      ]
    },
    {
      "cell_type": "markdown",
      "source": [
        "ROC"
      ],
      "metadata": {
        "id": "lCGHVFd93FOG"
      }
    },
    {
      "cell_type": "code",
      "source": [
        "w5 = model2.predict_proba(x_test)\n",
        "y_bin = label_binarize(y_test, classes = np.unique(y_test))\n",
        "fpr = {}\n",
        "tpr = {}\n",
        "thresh = {}\n",
        "roc_auc = dict()\n",
        "\n",
        "label = np.unique(y_test)\n",
        "n_classes = label.shape[0]\n",
        "for i in range(n_classes):\n",
        "  fpr[i], tpr[i], thresh[i] = roc_curve(y_bin[:, i], w5[:, i])\n",
        "  roc_auc[i] = auc(fpr[i], tpr[i])\n",
        "  plt.plot(fpr[i], tpr[i], linestyle = '--', label = '%s vs rest (AUC = %0.2f)' % (label[i], roc_auc[i]))\n",
        "\n",
        "plt.plot([0, 1], [0, 1], 'b--')\n",
        "plt.xlim([0, 1])\n",
        "plt.ylim([0, 1.05])\n",
        "plt.ylabel('True Positive Rate')\n",
        "plt.xlabel('False Positive Rate')"
      ],
      "metadata": {
        "colab": {
          "base_uri": "https://localhost:8080/",
          "height": 296
        },
        "id": "09T_r-ai3Dwc",
        "outputId": "0ff9ac9b-4ff9-4aeb-938e-f643d6da2bf3"
      },
      "execution_count": null,
      "outputs": [
        {
          "output_type": "execute_result",
          "data": {
            "text/plain": [
              "Text(0.5, 0, 'False Positive Rate')"
            ]
          },
          "metadata": {},
          "execution_count": 147
        },
        {
          "output_type": "display_data",
          "data": {
            "text/plain": [
              "<Figure size 432x288 with 1 Axes>"
            ],
            "image/png": "[encoded data removed]"
          },
          "metadata": {
            "needs_background": "light"
          }
        }
      ]
    },
    {
      "cell_type": "markdown",
      "source": [
        "**LDA**"
      ],
      "metadata": {
        "id": "j-x7viUn0FMP"
      }
    },
    {
      "cell_type": "code",
      "source": [
        "from sklearn.discriminant_analysis import LinearDiscriminantAnalysis as LDA\n",
        "lda = LDA(n_components = 2)\n",
        "lda.fit(x_train,y_train)\n",
        "X_train_2= lda.transform(x_train)\n",
        "X_test_2= lda.transform(x_test)"
      ],
      "metadata": {
        "id": "XmEEggy5n4xS"
      },
      "execution_count": null,
      "outputs": []
    },
    {
      "cell_type": "code",
      "source": [
        "model_4 = dtc()\n",
        "model_4.fit(X_train_2, y_train)\n",
        "y_pred_4 = model_4.predict(X_test_2)"
      ],
      "metadata": {
        "id": "IRTEzzVnMnds"
      },
      "execution_count": null,
      "outputs": []
    },
    {
      "cell_type": "code",
      "source": [
        "accu_3=ac(y_test,y_pred_4)\n",
        "print(accu_3)"
      ],
      "metadata": {
        "id": "v3b7Xq48oeWm",
        "colab": {
          "base_uri": "https://localhost:8080/"
        },
        "outputId": "2e024073-2841-4613-ce38-6f192a0da8b9"
      },
      "execution_count": null,
      "outputs": [
        {
          "output_type": "stream",
          "name": "stdout",
          "text": [
            "0.37487487487487486\n"
          ]
        }
      ]
    },
    {
      "cell_type": "markdown",
      "source": [
        "PCA"
      ],
      "metadata": {
        "id": "Y4F80RMZ-CAt"
      }
    },
    {
      "cell_type": "code",
      "source": [
        "P5 = dtc()\n",
        "P5.fit(x2_train, y_train)"
      ],
      "metadata": {
        "colab": {
          "base_uri": "https://localhost:8080/"
        },
        "outputId": "4337530d-e51b-4f1c-861c-5bb9c07aabf7",
        "id": "L7K0WvH5-CoN"
      },
      "execution_count": 186,
      "outputs": [
        {
          "output_type": "execute_result",
          "data": {
            "text/plain": [
              "DecisionTreeClassifier()"
            ]
          },
          "metadata": {},
          "execution_count": 186
        }
      ]
    },
    {
      "cell_type": "code",
      "source": [
        "Q5 = P5.predict(x2_test)"
      ],
      "metadata": {
        "id": "j3EfIdJN-CoO"
      },
      "execution_count": 187,
      "outputs": []
    },
    {
      "cell_type": "code",
      "source": [
        "print(ac(y_test, Q5))"
      ],
      "metadata": {
        "colab": {
          "base_uri": "https://localhost:8080/"
        },
        "outputId": "898c524e-7d24-4802-83e5-7a6c19100b69",
        "id": "3TBwzeso-CoO"
      },
      "execution_count": 188,
      "outputs": [
        {
          "output_type": "stream",
          "name": "stdout",
          "text": [
            "0.2822822822822823\n"
          ]
        }
      ]
    },
    {
      "cell_type": "code",
      "source": [
        "l5 = ['Decision Tree Classifier', ac(y_test, dtc_y1), ac(y_test, Q5), ac(y_test,y_pred_4)]\n",
        "table.append(l5)"
      ],
      "metadata": {
        "id": "Ww9qCLLMSEu6"
      },
      "execution_count": 201,
      "outputs": []
    },
    {
      "cell_type": "markdown",
      "source": [
        "#**6.MLP**"
      ],
      "metadata": {
        "id": "h7NtNhgaxawh"
      }
    },
    {
      "cell_type": "code",
      "source": [
        "from sklearn.neural_network import MLPClassifier\n",
        "import seaborn as sns\n",
        "import matplotlib.pyplot as plt\n"
      ],
      "metadata": {
        "id": "WUkDhyw1A1CV"
      },
      "execution_count": 189,
      "outputs": []
    },
    {
      "cell_type": "code",
      "source": [
        "mlp=MLPClassifier(max_iter=500, activation=\"relu\")\n",
        "mlp.fit(x1_train, y_train)\n",
        "\n",
        "y_pred5 = mlp.predict(x1_test)"
      ],
      "metadata": {
        "id": "b2d2utyEA4bc"
      },
      "execution_count": 190,
      "outputs": []
    },
    {
      "cell_type": "code",
      "source": [
        "accu5=ac(y_test,y_pred5)\n",
        "print(accu5)"
      ],
      "metadata": {
        "id": "nd4Gk-UdWcty",
        "colab": {
          "base_uri": "https://localhost:8080/"
        },
        "outputId": "5a55ba2b-b1b2-46de-d298-0706e2312b65"
      },
      "execution_count": null,
      "outputs": [
        {
          "output_type": "stream",
          "name": "stdout",
          "text": [
            "0.8563563563563563\n"
          ]
        }
      ]
    },
    {
      "cell_type": "code",
      "source": [
        "confusion_matrix(y_test,y_pred5) "
      ],
      "metadata": {
        "id": "bRvzn9Hx84vR",
        "colab": {
          "base_uri": "https://localhost:8080/"
        },
        "outputId": "f8a063b3-a724-4950-808a-867fcb6c4325"
      },
      "execution_count": null,
      "outputs": [
        {
          "output_type": "execute_result",
          "data": {
            "text/plain": [
              "array([[172,   0,   6,   2,   2,   5,   4,   1,   2,   7],\n",
              "       [  1, 169,   3,   0,   0,  11,   1,   0,   0,   0],\n",
              "       [ 11,   2, 159,   3,   1,   6,   1,   2,   2,   5],\n",
              "       [  2,   0,   8, 160,   9,   1,   2,   5,   2,   4],\n",
              "       [  3,   1,   1,   6, 171,   0,   2,   5,  11,   5],\n",
              "       [  4,   6,   8,   2,   3, 181,   0,   0,   1,   4],\n",
              "       [  1,   0,   0,   1,   4,   0, 181,   0,   0,  10],\n",
              "       [  1,   1,   4,  12,   7,   0,   0, 166,   6,   6],\n",
              "       [  6,   0,   4,   2,   3,   5,   1,   5, 177,   2],\n",
              "       [  5,   2,   1,   7,   1,   4,   3,   2,   8, 175]])"
            ]
          },
          "metadata": {},
          "execution_count": 126
        }
      ]
    },
    {
      "cell_type": "code",
      "source": [
        "print(classification_report(y_test,y_pred5))"
      ],
      "metadata": {
        "id": "HsuzZu619Ain",
        "colab": {
          "base_uri": "https://localhost:8080/"
        },
        "outputId": "1295d576-6a9b-4d31-c296-6635cce66b9a"
      },
      "execution_count": null,
      "outputs": [
        {
          "output_type": "stream",
          "name": "stdout",
          "text": [
            "              precision    recall  f1-score   support\n",
            "\n",
            "           0       0.83      0.86      0.85       201\n",
            "           1       0.93      0.91      0.92       185\n",
            "           2       0.82      0.83      0.82       192\n",
            "           3       0.82      0.83      0.82       193\n",
            "           4       0.85      0.83      0.84       205\n",
            "           5       0.85      0.87      0.86       209\n",
            "           6       0.93      0.92      0.92       197\n",
            "           7       0.89      0.82      0.85       203\n",
            "           8       0.85      0.86      0.86       205\n",
            "           9       0.80      0.84      0.82       208\n",
            "\n",
            "    accuracy                           0.86      1998\n",
            "   macro avg       0.86      0.86      0.86      1998\n",
            "weighted avg       0.86      0.86      0.86      1998\n",
            "\n"
          ]
        }
      ]
    },
    {
      "cell_type": "markdown",
      "source": [
        "ROC"
      ],
      "metadata": {
        "id": "0jJUOUTG3P8o"
      }
    },
    {
      "cell_type": "code",
      "source": [
        "w6 = mlp.predict_proba(x_test)\n",
        "y_bin = label_binarize(y_test, classes = np.unique(y_test))\n",
        "fpr = {}\n",
        "tpr = {}\n",
        "thresh = {}\n",
        "roc_auc = dict()\n",
        "\n",
        "label = np.unique(y_test)\n",
        "n_classes = label.shape[0]\n",
        "for i in range(n_classes):\n",
        "  fpr[i], tpr[i], thresh[i] = roc_curve(y_bin[:, i], w6[:, i])\n",
        "  roc_auc[i] = auc(fpr[i], tpr[i])\n",
        "  plt.plot(fpr[i], tpr[i], linestyle = '--', label = '%s vs rest (AUC = %0.2f)' % (label[i], roc_auc[i]))\n",
        "\n",
        "plt.plot([0, 1], [0, 1], 'b--')\n",
        "plt.xlim([0, 1])\n",
        "plt.ylim([0, 1.05])\n",
        "plt.ylabel('True Positive Rate')\n",
        "plt.xlabel('False Positive Rate')"
      ],
      "metadata": {
        "colab": {
          "base_uri": "https://localhost:8080/",
          "height": 297
        },
        "id": "AAmpTXaR3Sq0",
        "outputId": "fb675329-3f36-4c9d-f2c6-677e94a40ca6"
      },
      "execution_count": null,
      "outputs": [
        {
          "output_type": "execute_result",
          "data": {
            "text/plain": [
              "Text(0.5, 0, 'False Positive Rate')"
            ]
          },
          "metadata": {},
          "execution_count": 128
        },
        {
          "output_type": "display_data",
          "data": {
            "text/plain": [
              "<Figure size 432x288 with 1 Axes>"
            ],
            "image/png": "[encoded data removed]"
          },
          "metadata": {
            "needs_background": "light"
          }
        }
      ]
    },
    {
      "cell_type": "markdown",
      "source": [
        "LDA"
      ],
      "metadata": {
        "id": "kkmVRKckXdGf"
      }
    },
    {
      "cell_type": "code",
      "source": [
        "from sklearn.discriminant_analysis import LinearDiscriminantAnalysis as LDA\n",
        "lda = LDA(n_components = 2)\n",
        "lda.fit(x1_train,y_train)\n",
        "X_train_3= lda.transform(x_train)\n",
        "X_test_3= lda.transform(x_test)"
      ],
      "metadata": {
        "id": "v51MpNiUXefx"
      },
      "execution_count": null,
      "outputs": []
    },
    {
      "cell_type": "code",
      "source": [
        "model_6 = LDA()\n",
        "model_6.fit(X_train_3, y_train)\n",
        "y_pred_6 = model_6.predict(X_test_3)"
      ],
      "metadata": {
        "id": "FCCfD0RnYDgE"
      },
      "execution_count": null,
      "outputs": []
    },
    {
      "cell_type": "code",
      "source": [
        "accu_6=ac(y_test,y_pred_6)\n",
        "print(accu_6)"
      ],
      "metadata": {
        "colab": {
          "base_uri": "https://localhost:8080/"
        },
        "id": "JtnUiFeAYIm_",
        "outputId": "23620a46-2eed-43fe-e79b-30089897eb62"
      },
      "execution_count": null,
      "outputs": [
        {
          "output_type": "stream",
          "name": "stdout",
          "text": [
            "0.2932932932932933\n"
          ]
        }
      ]
    },
    {
      "cell_type": "markdown",
      "source": [
        "PCA"
      ],
      "metadata": {
        "id": "VUKU0Mrd-EnW"
      }
    },
    {
      "cell_type": "code",
      "source": [
        "P6 = MLPClassifier()\n",
        "P6.fit(x2_train, y_train)"
      ],
      "metadata": {
        "colab": {
          "base_uri": "https://localhost:8080/"
        },
        "outputId": "35f5f231-f87e-4103-92a5-dda7607bdc8b",
        "id": "FNHl-8vI-FPa"
      },
      "execution_count": 191,
      "outputs": [
        {
          "output_type": "stream",
          "name": "stderr",
          "text": [
            "/usr/local/lib/python3.7/dist-packages/sklearn/neural_network/_multilayer_perceptron.py:696: ConvergenceWarning: Stochastic Optimizer: Maximum iterations (200) reached and the optimization hasn't converged yet.\n",
            "  ConvergenceWarning,\n"
          ]
        },
        {
          "output_type": "execute_result",
          "data": {
            "text/plain": [
              "MLPClassifier()"
            ]
          },
          "metadata": {},
          "execution_count": 191
        }
      ]
    },
    {
      "cell_type": "code",
      "source": [
        "Q6 = P6.predict(x2_test)"
      ],
      "metadata": {
        "id": "RrnjNk4Y-FPb"
      },
      "execution_count": 192,
      "outputs": []
    },
    {
      "cell_type": "code",
      "source": [
        "print(ac(y_test, Q6))"
      ],
      "metadata": {
        "colab": {
          "base_uri": "https://localhost:8080/"
        },
        "outputId": "8490b776-06d8-4670-9391-5305e5844db0",
        "id": "n-MFPTl7-FPb"
      },
      "execution_count": 193,
      "outputs": [
        {
          "output_type": "stream",
          "name": "stdout",
          "text": [
            "0.29179179179179177\n"
          ]
        }
      ]
    },
    {
      "cell_type": "code",
      "source": [
        "l6 = ['MLP', ac(y_test,y_pred5), ac(y_test, Q6), ac(y_test,y_pred_6)]\n",
        "table.append(l6)"
      ],
      "metadata": {
        "id": "WPJUPkFpSS5j"
      },
      "execution_count": 202,
      "outputs": []
    },
    {
      "cell_type": "markdown",
      "source": [
        "**Accuracy on Testing data**"
      ],
      "metadata": {
        "id": "vATuqSOAS3C1"
      }
    },
    {
      "cell_type": "code",
      "source": [
        "print(tabulate(table, headers='firstrow', tablefmt='fancy_grid'))"
      ],
      "metadata": {
        "colab": {
          "base_uri": "https://localhost:8080/"
        },
        "id": "9E2dcNYCS6XF",
        "outputId": "d9b2a600-e9a9-4c85-eb86-a0808f4a2ef8"
      },
      "execution_count": 207,
      "outputs": [
        {
          "output_type": "stream",
          "name": "stdout",
          "text": [
            "╒══════════════════════════╤════════════════╤════════════╤════════════╕\n",
            "│ Model                    │   Simple model │   With PCA │   With LDA │\n",
            "╞══════════════════════════╪════════════════╪════════════╪════════════╡\n",
            "│ Lightgbm Classfier       │       0.8999   │   0.428428 │   0.446947 │\n",
            "├──────────────────────────┼────────────────┼────────────┼────────────┤\n",
            "│ Xgboost Classifier       │       0.803303 │   0.432432 │   0.446947 │\n",
            "├──────────────────────────┼────────────────┼────────────┼────────────┤\n",
            "│ KNN Classifier           │       0.896897 │   0.383884 │   0.446947 │\n",
            "├──────────────────────────┼────────────────┼────────────┼────────────┤\n",
            "│ Random Forest Classifier │       0.862362 │   0.422923 │   0.431932 │\n",
            "├──────────────────────────┼────────────────┼────────────┼────────────┤\n",
            "│ Decision Tree Classifier │       0.675175 │   0.282282 │   0.374875 │\n",
            "├──────────────────────────┼────────────────┼────────────┼────────────┤\n",
            "│ MLP                      │       0.862863 │   0.291792 │   0.293293 │\n",
            "╘══════════════════════════╧════════════════╧════════════╧════════════╛\n"
          ]
        }
      ]
    }
  ]
}